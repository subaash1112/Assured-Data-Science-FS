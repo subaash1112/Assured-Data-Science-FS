{
 "cells": [
  {
   "cell_type": "code",
   "execution_count": 1,
   "metadata": {
    "colab": {
     "base_uri": "https://localhost:8080/"
    },
    "id": "0630rsG8gm4K",
    "outputId": "2517c758-db8b-48cf-8202-f21d1cd44eda"
   },
   "outputs": [
    {
     "name": "stdout",
     "output_type": "stream",
     "text": [
      "     Name  Age\n",
      "0     Ray   12\n",
      "1    Jane    7\n",
      "2    Kate   33\n",
      "3     Nik   34\n",
      "4  Autumn   45\n"
     ]
    }
   ],
   "source": [
    "# Loading a Sample Pandas DataFrame\n",
    "import pandas as pd\n",
    "\n",
    "df = pd.DataFrame.from_dict({\n",
    "    'Name': ['Ray', 'Jane', 'Kate', 'Nik', 'Autumn', 'Kasi', 'Mandeep', 'Evan', 'Kyra', 'Jim'],\n",
    "    'Age': [12, 7, 33, 34, 45, 65, 77, 11, 32, 55]\n",
    "})\n",
    "\n",
    "print(df.head())"
   ]
  },
  {
   "cell_type": "code",
   "execution_count": null,
   "metadata": {
    "id": "vLOMq4Jhg69P"
   },
   "outputs": [],
   "source": [
    "# Parameters of the Pandas .qcut() method\n",
    "pd.qcut(\n",
    "    x,                      # Column to bin\n",
    "    q,                      # Number of quantiles\n",
    "    labels=None,            # List of labels to include\n",
    "    retbins=False,          # Whether to return the bins/labels or not\n",
    "    precision=3,            # The precision to store and display the bins labels\n",
    "    duplicates='raise'      # If bin edges are not unique, raise a ValueError\n",
    ")"
   ]
  },
  {
   "cell_type": "code",
   "execution_count": 2,
   "metadata": {
    "colab": {
     "base_uri": "https://localhost:8080/"
    },
    "id": "Wwn7p_uEibx3",
    "outputId": "eddfbafe-bca5-4644-8eb3-ca5869c36d23"
   },
   "outputs": [
    {
     "name": "stdout",
     "output_type": "stream",
     "text": [
      "     Name  Age     Age Groups\n",
      "0     Ray   12  (6.999, 17.0]\n",
      "1    Jane    7  (6.999, 17.0]\n",
      "2    Kate   33   (17.0, 33.5]\n",
      "3     Nik   34   (33.5, 52.5]\n",
      "4  Autumn   45   (33.5, 52.5]\n"
     ]
    }
   ],
   "source": [
    "# Splitting Age Column into Four Quantiles\n",
    "df['Age Groups'] = pd.qcut(df['Age'], 4)\n",
    "print(df.head())"
   ]
  },
  {
   "cell_type": "code",
   "execution_count": 3,
   "metadata": {
    "colab": {
     "base_uri": "https://localhost:8080/"
    },
    "id": "RUYaLA6ejM9a",
    "outputId": "3522bc91-76fb-4256-da01-478857899171"
   },
   "outputs": [
    {
     "name": "stdout",
     "output_type": "stream",
     "text": [
      "category\n"
     ]
    }
   ],
   "source": [
    "# Checking the data type of the qcut column\n",
    "df['Age Groups'] = pd.qcut(df['Age'], 4)\n",
    "print(df['Age Groups'].dtype)"
   ]
  },
  {
   "cell_type": "code",
   "execution_count": 4,
   "metadata": {
    "colab": {
     "base_uri": "https://localhost:8080/"
    },
    "id": "-rw-nYNalGoO",
    "outputId": "3a83a5ad-7fec-4a67-89c9-2ca56dbb947b"
   },
   "outputs": [
    {
     "name": "stdout",
     "output_type": "stream",
     "text": [
      "     Name  Age     Age Groups\n",
      "0     Ray   12  (6.999, 17.0]\n",
      "1    Jane    7  (6.999, 17.0]\n",
      "2    Kate   33   (17.0, 33.5]\n",
      "3     Nik   34   (33.5, 52.5]\n",
      "4  Autumn   45   (33.5, 52.5]\n"
     ]
    }
   ],
   "source": [
    "# Splitting Age Column into Four Quantiles\n",
    "df['Age Groups'] = pd.qcut(\n",
    "   df['Age'], \n",
    "   [0, 0.25, 0.5, 0.75, 1]\n",
    ")\n",
    "print(df.head())"
   ]
  },
  {
   "cell_type": "code",
   "execution_count": 5,
   "metadata": {
    "colab": {
     "base_uri": "https://localhost:8080/"
    },
    "id": "rT4HoqEWl22B",
    "outputId": "6ad73ee7-30d9-4c5c-e99c-8f2c2ddc5e5e"
   },
   "outputs": [
    {
     "name": "stdout",
     "output_type": "stream",
     "text": [
      "     Name  Age Age Groups\n",
      "0     Ray   12      0-25%\n",
      "1    Jane    7      0-25%\n",
      "2    Kate   33     26-49%\n",
      "3     Nik   34     51-75%\n",
      "4  Autumn   45     51-75%\n"
     ]
    }
   ],
   "source": [
    "# Adding Labels to Pandas .qcut()\n",
    "df['Age Groups'] = pd.qcut(\n",
    "   df['Age'], \n",
    "   [0, 0.25, 0.5, 0.75, 1], \n",
    "   labels=['0-25%', '26-49%', '51-75%', '76-100%']\n",
    ")\n",
    "print(df.head())"
   ]
  },
  {
   "cell_type": "code",
   "execution_count": 6,
   "metadata": {
    "colab": {
     "base_uri": "https://localhost:8080/"
    },
    "id": "bXTW70rSm1ni",
    "outputId": "f427ccb9-34e4-4167-f291-033d44328ae3"
   },
   "outputs": [
    {
     "name": "stdout",
     "output_type": "stream",
     "text": [
      "     Name  Age    Age Groups\n",
      "0     Ray   12   (6.9, 17.0]\n",
      "1    Jane    7   (6.9, 17.0]\n",
      "2    Kate   33  (17.0, 33.5]\n",
      "3     Nik   34  (33.5, 52.5]\n",
      "4  Autumn   45  (33.5, 52.5]\n"
     ]
    }
   ],
   "source": [
    "# Modifying Precision in Categories\n",
    "df['Age Groups'] = pd.qcut(\n",
    "   df['Age'], \n",
    "   4, \n",
    "   precision=1\n",
    ")\n",
    "print(df.head())"
   ]
  },
  {
   "cell_type": "code",
   "execution_count": null,
   "metadata": {
    "id": "bpcscv-UnxT4"
   },
   "outputs": [],
   "source": [
    "# Parameters of the .cut() Function\n",
    "pd.cut(\n",
    "    x,                          # The input array to be binned\n",
    "    bins,                       # The bins to use: int (# of bins) or sequence (widths) \n",
    "    right=True,                 # Whether to include right-most edge\n",
    "    labels=None,                # Labels to be used for bins\n",
    "    retbins=False,              # Whether to return bins or not\n",
    "    precision=3,                # Precision to store and display bins\n",
    "    include_lowest=False,       # Whether first interval should be left inclusive or not\n",
    "    duplicates='raise',         # What to do if bins edges are not unique\n",
    "    ordered=True                # Whether labels are ordered or not\n",
    ")"
   ]
  },
  {
   "cell_type": "code",
   "execution_count": 7,
   "metadata": {
    "colab": {
     "base_uri": "https://localhost:8080/"
    },
    "id": "yfogE0xLoayE",
    "outputId": "f2e3e784-c43d-4f17-c9f8-6f7802c3a29b"
   },
   "outputs": [
    {
     "name": "stdout",
     "output_type": "stream",
     "text": [
      "     Name  Age    Age Groups Age Group\n",
      "0     Ray   12   (6.9, 17.0]   (0, 17]\n",
      "1    Jane    7   (6.9, 17.0]   (0, 17]\n",
      "2    Kate   33  (17.0, 33.5]  (17, 64]\n",
      "3     Nik   34  (33.5, 52.5]  (17, 64]\n",
      "4  Autumn   45  (33.5, 52.5]  (17, 64]\n"
     ]
    }
   ],
   "source": [
    "df['Age Group'] = pd.cut(\n",
    "   df['Age'], \n",
    "   [0, 17, 64, 100]\n",
    ")\n",
    "print(df.head())"
   ]
  },
  {
   "cell_type": "code",
   "execution_count": 10,
   "metadata": {
    "colab": {
     "base_uri": "https://localhost:8080/"
    },
    "id": "h7J2zYhSp2Rg",
    "outputId": "6650f403-9eb8-49c9-e8c0-56263e70f1ca"
   },
   "outputs": [
    {
     "name": "stdout",
     "output_type": "stream",
     "text": [
      "     Name  Age    Age Groups        Age Group\n",
      "0     Ray   12   (6.9, 17.0]   0-18 years old\n",
      "1    Jane    7   (6.9, 17.0]   0-18 years old\n",
      "2    Kate   33  (17.0, 33.5]  18-65 years old\n",
      "3     Nik   34  (33.5, 52.5]  18-65 years old\n",
      "4  Autumn   45  (33.5, 52.5]  18-65 years old\n",
      "\n",
      "      Name  Age    Age Groups        Age Group\n",
      "5     Kasi   65  (52.5, 77.0]    65+ years old\n",
      "6  Mandeep   77  (52.5, 77.0]    65+ years old\n",
      "7     Evan   11   (6.9, 17.0]   0-18 years old\n",
      "8     Kyra   32  (17.0, 33.5]  18-65 years old\n",
      "9      Jim   55  (52.5, 77.0]  18-65 years old\n"
     ]
    }
   ],
   "source": [
    "# Adding labels to the groupings\n",
    "df['Age Group'] = pd.cut(\n",
    "    df['Age'], \n",
    "    [0, 17, 64, 100], \n",
    "    labels=['0-18 years old', '18-65 years old', '65+ years old']\n",
    ")\n",
    "print(df.head())\n",
    "print()\n",
    "print(df.tail())"
   ]
  },
  {
   "cell_type": "code",
   "execution_count": 14,
   "metadata": {
    "colab": {
     "base_uri": "https://localhost:8080/"
    },
    "id": "5ffDvwsErcb0",
    "outputId": "36e9df1f-403e-4344-ea75-c09f24949dd1"
   },
   "outputs": [
    {
     "name": "stdout",
     "output_type": "stream",
     "text": [
      "     Name  Age    Age Groups        Age Group\n",
      "0     Ray   12   (6.9, 17.0]   0-18 years old\n",
      "1    Jane    7   (6.9, 17.0]   0-18 years old\n",
      "2    Kate   33  (17.0, 33.5]  18-65 years old\n",
      "3     Nik   34  (33.5, 52.5]  18-65 years old\n",
      "4  Autumn   45  (33.5, 52.5]  18-65 years old\n",
      "\n",
      "      Name  Age    Age Groups        Age Group\n",
      "5     Kasi   65  (52.5, 77.0]    65+ years old\n",
      "6  Mandeep   77  (52.5, 77.0]    65+ years old\n",
      "7     Evan   11   (6.9, 17.0]   0-18 years old\n",
      "8     Kyra   32  (17.0, 33.5]  18-65 years old\n",
      "9      Jim   55  (52.5, 77.0]  18-65 years old\n"
     ]
    }
   ],
   "source": [
    "# Using the right= argument to modify binning behavior\n",
    "df['Age Group'] = pd.cut(\n",
    "    df['Age'], \n",
    "    [0, 18, 65, 100], \n",
    "    labels=['0-18 years old', '18-65 years old', '65+ years old'],\n",
    "    right=False\n",
    ")\n",
    "print(df.head())\n",
    "print()\n",
    "print(df.tail())"
   ]
  },
  {
   "cell_type": "code",
   "execution_count": 15,
   "metadata": {
    "colab": {
     "base_uri": "https://localhost:8080/"
    },
    "id": "wVHzyhuXsoyt",
    "outputId": "50f07ed3-42b6-488e-c4a2-3db1ed6464fb"
   },
   "outputs": [
    {
     "name": "stdout",
     "output_type": "stream",
     "text": [
      "     Name  Age    Age Groups        Age Group\n",
      "0     Ray   12   (6.9, 17.0]   0-18 years old\n",
      "1    Jane    7   (6.9, 17.0]   0-18 years old\n",
      "2    Kate   33  (17.0, 33.5]  18-65 years old\n",
      "3     Nik   34  (33.5, 52.5]  18-65 years old\n",
      "4  Autumn   45  (33.5, 52.5]  18-65 years old\n"
     ]
    }
   ],
   "source": [
    "# Including left-most values\n",
    "df['Age Group'] = pd.cut(\n",
    "    df['Age'], \n",
    "    [0, 18, 65, 100], \n",
    "    labels=['0-18 years old', '18-65 years old', '65+ years old'],\n",
    "    include_lowest=True\n",
    ")\n",
    "print(df.head())"
   ]
  },
  {
   "cell_type": "code",
   "execution_count": 16,
   "metadata": {
    "colab": {
     "base_uri": "https://localhost:8080/"
    },
    "id": "GG3rUx_DtNRB",
    "outputId": "4112a913-fb22-4c9d-8855-00ad99297379"
   },
   "outputs": [
    {
     "name": "stdout",
     "output_type": "stream",
     "text": [
      "0     0-18 years old\n",
      "1     0-18 years old\n",
      "2    18-65 years old\n",
      "3    18-65 years old\n",
      "4    18-65 years old\n",
      "5    18-65 years old\n",
      "6      65+ years old\n",
      "7     0-18 years old\n",
      "8    18-65 years old\n",
      "9    18-65 years old\n",
      "Name: Age, dtype: category\n",
      "Categories (3, object): ['0-18 years old' < '18-65 years old' < '65+ years old']\n"
     ]
    }
   ],
   "source": [
    "# Creating Ordered Categories\n",
    "print(pd.cut(\n",
    "    df['Age'], \n",
    "    [0, 18, 65, 100], \n",
    "    labels=['0-18 years old', '18-65 years old', '65+ years old'],\n",
    "    ordered=True\n",
    "))"
   ]
  },
  {
   "cell_type": "markdown",
   "metadata": {
    "id": "2CeAmGJrvHfD"
   },
   "source": [
    "**Exercise 1.3B6**"
   ]
  },
  {
   "cell_type": "markdown",
   "metadata": {
    "id": "Wl0ITLxqvObh"
   },
   "source": [
    "Question 1: Answer\n",
    "\n",
    "Since the .qcut() function doesn’t allow you to specify including the lowest value of the range, the cut() function needs to be used.\n",
    "\n"
   ]
  },
  {
   "cell_type": "code",
   "execution_count": 18,
   "metadata": {
    "colab": {
     "base_uri": "https://localhost:8080/"
    },
    "id": "QU01XjMevcl2",
    "outputId": "3060ee47-c7bf-4672-c4bc-0d5be98614a2"
   },
   "outputs": [
    {
     "name": "stdout",
     "output_type": "stream",
     "text": [
      "      Name  Age    Age Groups Age Group\n",
      "0      Ray   12   (6.9, 17.0]       NaN\n",
      "1     Jane    7   (6.9, 17.0]       NaN\n",
      "2     Kate   33  (17.0, 33.5]       NaN\n",
      "3      Nik   34  (33.5, 52.5]       NaN\n",
      "4   Autumn   45  (33.5, 52.5]       NaN\n",
      "5     Kasi   65  (52.5, 77.0]       NaN\n",
      "6  Mandeep   77  (52.5, 77.0]       NaN\n",
      "7     Evan   11   (6.9, 17.0]       NaN\n",
      "8     Kyra   32  (17.0, 33.5]       NaN\n",
      "9      Jim   55  (52.5, 77.0]       NaN\n"
     ]
    }
   ],
   "source": [
    "df['Age Group'] = pd.cut(\n",
    "    df['Age'], \n",
    "    [0, 0.25, 0.5, 0.75, 1], \n",
    "    include_lowest=True,\n",
    "    right=False\n",
    ")\n",
    "\n",
    "print(df)"
   ]
  },
  {
   "cell_type": "markdown",
   "metadata": {
    "id": "l0r461GNv7LC"
   },
   "source": [
    "Question 2: Answer\n",
    "\n",
    "Because categories, though they look like strings, aren’t strings, their sorting might not work correctly. By including order in your categories, these values can be sorted appropriately."
   ]
  },
  {
   "cell_type": "markdown",
   "metadata": {
    "id": "uQDMQUpLwPeC"
   },
   "source": [
    "Question 3: Answer\n",
    "\n",
    "The cut function allows you to define your own numeric ranges, while the qcut function enforces an equal distribution of the items in the bins."
   ]
  }
 ],
 "metadata": {
  "colab": {
   "collapsed_sections": [],
   "name": "1.3B6.ipynb",
   "provenance": []
  },
  "kernelspec": {
   "display_name": "Python 3 (ipykernel)",
   "language": "python",
   "name": "python3"
  },
  "language_info": {
   "codemirror_mode": {
    "name": "ipython",
    "version": 3
   },
   "file_extension": ".py",
   "mimetype": "text/x-python",
   "name": "python",
   "nbconvert_exporter": "python",
   "pygments_lexer": "ipython3",
   "version": "3.9.12"
  }
 },
 "nbformat": 4,
 "nbformat_minor": 1
}
