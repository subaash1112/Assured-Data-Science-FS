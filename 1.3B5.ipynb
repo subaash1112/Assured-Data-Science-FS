{
 "cells": [
  {
   "cell_type": "code",
   "execution_count": null,
   "metadata": {
    "id": "xzwJrCAaX9id"
   },
   "outputs": [],
   "source": [
    "df.sort_values(\n",
    "    by = [],\n",
    "    axis = 0, \n",
    "    ascending = True, \n",
    "    inplace = False, \n",
    "    kind = 'quicksort', \n",
    "    na_position = 'last', \n",
    "    ignore_index = False, \n",
    "    key = None\n",
    ")"
   ]
  },
  {
   "cell_type": "code",
   "execution_count": 1,
   "metadata": {
    "colab": {
     "base_uri": "https://localhost:8080/"
    },
    "id": "lF-XYhCvYAvr",
    "outputId": "f5df026a-aba0-4e86-9f51-29b47c74d9e4"
   },
   "outputs": [
    {
     "name": "stdout",
     "output_type": "stream",
     "text": [
      "        date  gender      region  sales\n",
      "0 2022-08-22    Male  North-West  20381\n",
      "1 2022-03-05    Male  North-East  14495\n",
      "2 2022-02-09    Male  North-East  13510\n",
      "3 2022-06-22    Male  North-East  15983\n",
      "4 2022-08-10  Female  North-West  15007\n"
     ]
    }
   ],
   "source": [
    "# Loading a Sample Pandas DataFrame\n",
    "import pandas as pd\n",
    "df = pd.read_csv('https://raw.githubusercontent.com/subaash1112/Assured-Data-Science-FS/data/sales.csv', parse_dates=['date'])\n",
    "\n",
    "print(df.head())"
   ]
  },
  {
   "cell_type": "code",
   "execution_count": null,
   "metadata": {
    "colab": {
     "base_uri": "https://localhost:8080/"
    },
    "id": "3t3mjFRLmI4n",
    "outputId": "6ae61695-49c9-4331-bdcc-38902d02ec4a"
   },
   "outputs": [
    {
     "name": "stdout",
     "output_type": "stream",
     "text": [
      "          date  gender      region  sales\n",
      "251 2022-10-20    Male  North-West   6084\n",
      "346 2022-05-06  Female  North-West   6403\n",
      "489 2022-07-01  Female  North-West   6824\n",
      "463 2022-09-12  Female  North-West   7432\n",
      "890 2022-10-02    Male  North-West   7633\n"
     ]
    }
   ],
   "source": [
    "# Sort a Pandas DataFrame by a Single Column\n",
    "sorted = df.sort_values(by='sales')\n",
    "print(sorted.head())"
   ]
  },
  {
   "cell_type": "code",
   "execution_count": null,
   "metadata": {
    "colab": {
     "base_uri": "https://localhost:8080/"
    },
    "id": "mTsymo0unYqJ",
    "outputId": "2f9863f2-4149-4611-ad28-c8fdf7fd16d5"
   },
   "outputs": [
    {
     "name": "stdout",
     "output_type": "stream",
     "text": [
      "          date  gender      region  sales\n",
      "850 2022-07-26  Female  North-East  11664\n",
      "770 2022-05-27    Male  North-East  12009\n",
      "434 2022-11-28  Female  North-East  12353\n",
      "76  2022-11-14  Female  North-East  12404\n",
      "478 2022-09-12  Female  North-East  12709\n"
     ]
    }
   ],
   "source": [
    "# Sort a Pandas DataFrame by Multiple Column\n",
    "sorted = df.sort_values(by=['region', 'sales'])\n",
    "print(sorted.head())"
   ]
  },
  {
   "cell_type": "code",
   "execution_count": null,
   "metadata": {
    "colab": {
     "base_uri": "https://localhost:8080/"
    },
    "id": "DFQjnqtnonhg",
    "outputId": "f9724339-3e5c-425b-af84-7dc22336fbce"
   },
   "outputs": [
    {
     "name": "stdout",
     "output_type": "stream",
     "text": [
      "          date  gender region  sales\n",
      "61  2022-02-22  Female  South  43775\n",
      "673 2022-04-19    Male  South  37878\n",
      "111 2022-10-31  Female  South  36444\n",
      "892 2022-09-05    Male  South  35723\n",
      "136 2022-02-27    Male  South  35485\n"
     ]
    }
   ],
   "source": [
    "# Sorting Values in Descending Order in Pandas\n",
    "sorted = df.sort_values(by='sales', ascending=False)\n",
    "print(sorted.head())"
   ]
  },
  {
   "cell_type": "code",
   "execution_count": null,
   "metadata": {
    "colab": {
     "base_uri": "https://localhost:8080/"
    },
    "id": "7D7uuP28pYAJ",
    "outputId": "f00bff3a-ff6d-4a0f-b416-6b54292e49f6"
   },
   "outputs": [
    {
     "name": "stdout",
     "output_type": "stream",
     "text": [
      "          date  gender region  sales\n",
      "739 2022-02-28    Male  South  10768\n",
      "460 2022-11-15    Male  South  11567\n",
      "616 2022-11-18  Female  South  12940\n",
      "462 2022-09-28    Male  South  13055\n",
      "213 2022-01-25    Male  South  13230\n"
     ]
    }
   ],
   "source": [
    "# Changing the Sort Order of Multiple Columns\n",
    "sorted = df.sort_values(\n",
    "    by=['region', 'sales'],\n",
    "    ascending=[False, True]\n",
    ")\n",
    "print(sorted.head())"
   ]
  },
  {
   "cell_type": "code",
   "execution_count": null,
   "metadata": {
    "id": "rjpeWcF3qMhG"
   },
   "outputs": [],
   "source": [
    "# Adding Missing Values to Our DataFrame\n",
    "df.loc[10:20, 'sales'] = None"
   ]
  },
  {
   "cell_type": "code",
   "execution_count": null,
   "metadata": {
    "colab": {
     "base_uri": "https://localhost:8080/"
    },
    "id": "p4yrenSDqz8R",
    "outputId": "eb4ba78b-436f-413d-ecbc-06f5f6b9fb38"
   },
   "outputs": [
    {
     "name": "stdout",
     "output_type": "stream",
     "text": [
      "          date  gender      region   sales\n",
      "251 2022-10-20    Male  North-West  6084.0\n",
      "346 2022-05-06  Female  North-West  6403.0\n",
      "489 2022-07-01  Female  North-West  6824.0\n",
      "463 2022-09-12  Female  North-West  7432.0\n",
      "890 2022-10-02    Male  North-West  7633.0\n",
      "..         ...     ...         ...     ...\n",
      "16  2022-04-18    Male  North-West     NaN\n",
      "17  2022-07-30  Female  North-West     NaN\n",
      "18  2022-02-03    Male  North-East     NaN\n",
      "19  2022-01-15    Male  North-East     NaN\n",
      "20  2022-01-21  Female       South     NaN\n",
      "\n",
      "[1000 rows x 4 columns]\n"
     ]
    }
   ],
   "source": [
    "# Understanding Sort Order of Missing Data\n",
    "sorted = df.sort_values(\n",
    "    by='sales',\n",
    ")\n",
    "print(sorted)"
   ]
  },
  {
   "cell_type": "code",
   "execution_count": null,
   "metadata": {
    "colab": {
     "base_uri": "https://localhost:8080/"
    },
    "id": "pU97w1QtrtJy",
    "outputId": "aafe8756-76d9-42ea-fbfb-10cb21d0e22c"
   },
   "outputs": [
    {
     "name": "stdout",
     "output_type": "stream",
     "text": [
      "          date  gender      region    sales\n",
      "10  2022-12-21    Male       South      NaN\n",
      "11  2022-04-30  Female  North-West      NaN\n",
      "12  2022-11-25  Female  North-East      NaN\n",
      "13  2022-08-14  Female  North-East      NaN\n",
      "14  2022-02-24  Female  North-East      NaN\n",
      "..         ...     ...         ...      ...\n",
      "136 2022-02-27    Male       South  35485.0\n",
      "892 2022-09-05    Male       South  35723.0\n",
      "111 2022-10-31  Female       South  36444.0\n",
      "673 2022-04-19    Male       South  37878.0\n",
      "61  2022-02-22  Female       South  43775.0\n",
      "\n",
      "[1000 rows x 4 columns]\n"
     ]
    }
   ],
   "source": [
    "# Changing Sort Order of Missing Data\n",
    "sorted = df.sort_values(\n",
    "    by='sales',\n",
    "    na_position='first'\n",
    ")\n",
    "\n",
    "print(sorted)"
   ]
  },
  {
   "cell_type": "code",
   "execution_count": null,
   "metadata": {
    "colab": {
     "base_uri": "https://localhost:8080/"
    },
    "id": "1scyka8JshLc",
    "outputId": "45ebaab5-a230-4bc9-ea50-054afa3dbef5"
   },
   "outputs": [
    {
     "name": "stdout",
     "output_type": "stream",
     "text": [
      "        date  gender      region   sales\n",
      "0 2022-10-20    Male  North-West  6084.0\n",
      "1 2022-05-06  Female  North-West  6403.0\n",
      "2 2022-07-01  Female  North-West  6824.0\n",
      "3 2022-09-12  Female  North-West  7432.0\n",
      "4 2022-10-02    Male  North-West  7633.0\n"
     ]
    }
   ],
   "source": [
    "# Ignoring an Index when Sorting\n",
    "sorted = df.sort_values(\n",
    "    by='sales',\n",
    "    ignore_index=True\n",
    ")\n",
    "\n",
    "print(sorted.head())"
   ]
  },
  {
   "cell_type": "code",
   "execution_count": null,
   "metadata": {
    "colab": {
     "base_uri": "https://localhost:8080/"
    },
    "id": "GBTFKtm9tkvM",
    "outputId": "664dddba-f6ce-4669-ecb4-677cec81631f"
   },
   "outputs": [
    {
     "name": "stdout",
     "output_type": "stream",
     "text": [
      "          date  gender      region   sales\n",
      "251 2022-10-20    Male  North-West  6084.0\n",
      "346 2022-05-06  Female  North-West  6403.0\n",
      "489 2022-07-01  Female  North-West  6824.0\n",
      "463 2022-09-12  Female  North-West  7432.0\n",
      "890 2022-10-02    Male  North-West  7633.0\n"
     ]
    }
   ],
   "source": [
    "# Sorting a DataFrame in place\n",
    "df.sort_values(\n",
    "    by='sales',\n",
    "    inplace=True\n",
    ")\n",
    "\n",
    "print(df.head())"
   ]
  },
  {
   "cell_type": "markdown",
   "metadata": {
    "id": "BN8Bs4wxyyAm"
   },
   "source": [
    "Question 1"
   ]
  },
  {
   "cell_type": "code",
   "execution_count": 13,
   "metadata": {
    "colab": {
     "base_uri": "https://localhost:8080/",
     "height": 424
    },
    "id": "ahli3-17yvt7",
    "outputId": "78303909-2e86-479b-8df3-3f5cec661ce6"
   },
   "outputs": [
    {
     "data": {
      "text/html": [
       "\n",
       "  <div id=\"df-7d9c0cbc-558d-45cc-a495-fe7b56d3f4b4\">\n",
       "    <div class=\"colab-df-container\">\n",
       "      <div>\n",
       "<style scoped>\n",
       "    .dataframe tbody tr th:only-of-type {\n",
       "        vertical-align: middle;\n",
       "    }\n",
       "\n",
       "    .dataframe tbody tr th {\n",
       "        vertical-align: top;\n",
       "    }\n",
       "\n",
       "    .dataframe thead th {\n",
       "        text-align: right;\n",
       "    }\n",
       "</style>\n",
       "<table border=\"1\" class=\"dataframe\">\n",
       "  <thead>\n",
       "    <tr style=\"text-align: right;\">\n",
       "      <th></th>\n",
       "      <th>date</th>\n",
       "      <th>gender</th>\n",
       "      <th>region</th>\n",
       "      <th>sales</th>\n",
       "    </tr>\n",
       "  </thead>\n",
       "  <tbody>\n",
       "    <tr>\n",
       "      <th>739</th>\n",
       "      <td>2022-02-28</td>\n",
       "      <td>Male</td>\n",
       "      <td>South</td>\n",
       "      <td>10768.0</td>\n",
       "    </tr>\n",
       "    <tr>\n",
       "      <th>460</th>\n",
       "      <td>2022-11-15</td>\n",
       "      <td>Male</td>\n",
       "      <td>South</td>\n",
       "      <td>11567.0</td>\n",
       "    </tr>\n",
       "    <tr>\n",
       "      <th>462</th>\n",
       "      <td>2022-09-28</td>\n",
       "      <td>Male</td>\n",
       "      <td>South</td>\n",
       "      <td>13055.0</td>\n",
       "    </tr>\n",
       "    <tr>\n",
       "      <th>213</th>\n",
       "      <td>2022-01-25</td>\n",
       "      <td>Male</td>\n",
       "      <td>South</td>\n",
       "      <td>13230.0</td>\n",
       "    </tr>\n",
       "    <tr>\n",
       "      <th>534</th>\n",
       "      <td>2022-07-15</td>\n",
       "      <td>Male</td>\n",
       "      <td>South</td>\n",
       "      <td>14296.0</td>\n",
       "    </tr>\n",
       "    <tr>\n",
       "      <th>...</th>\n",
       "      <td>...</td>\n",
       "      <td>...</td>\n",
       "      <td>...</td>\n",
       "      <td>...</td>\n",
       "    </tr>\n",
       "    <tr>\n",
       "      <th>407</th>\n",
       "      <td>2022-12-10</td>\n",
       "      <td>Female</td>\n",
       "      <td>North-East</td>\n",
       "      <td>22545.0</td>\n",
       "    </tr>\n",
       "    <tr>\n",
       "      <th>12</th>\n",
       "      <td>2022-11-25</td>\n",
       "      <td>Female</td>\n",
       "      <td>North-East</td>\n",
       "      <td>NaN</td>\n",
       "    </tr>\n",
       "    <tr>\n",
       "      <th>13</th>\n",
       "      <td>2022-08-14</td>\n",
       "      <td>Female</td>\n",
       "      <td>North-East</td>\n",
       "      <td>NaN</td>\n",
       "    </tr>\n",
       "    <tr>\n",
       "      <th>14</th>\n",
       "      <td>2022-02-24</td>\n",
       "      <td>Female</td>\n",
       "      <td>North-East</td>\n",
       "      <td>NaN</td>\n",
       "    </tr>\n",
       "    <tr>\n",
       "      <th>15</th>\n",
       "      <td>2022-08-03</td>\n",
       "      <td>Female</td>\n",
       "      <td>North-East</td>\n",
       "      <td>NaN</td>\n",
       "    </tr>\n",
       "  </tbody>\n",
       "</table>\n",
       "<p>1000 rows × 4 columns</p>\n",
       "</div>\n",
       "      <button class=\"colab-df-convert\" onclick=\"convertToInteractive('df-7d9c0cbc-558d-45cc-a495-fe7b56d3f4b4')\"\n",
       "              title=\"Convert this dataframe to an interactive table.\"\n",
       "              style=\"display:none;\">\n",
       "        \n",
       "  <svg xmlns=\"http://www.w3.org/2000/svg\" height=\"24px\"viewBox=\"0 0 24 24\"\n",
       "       width=\"24px\">\n",
       "    <path d=\"M0 0h24v24H0V0z\" fill=\"none\"/>\n",
       "    <path d=\"M18.56 5.44l.94 2.06.94-2.06 2.06-.94-2.06-.94-.94-2.06-.94 2.06-2.06.94zm-11 1L8.5 8.5l.94-2.06 2.06-.94-2.06-.94L8.5 2.5l-.94 2.06-2.06.94zm10 10l.94 2.06.94-2.06 2.06-.94-2.06-.94-.94-2.06-.94 2.06-2.06.94z\"/><path d=\"M17.41 7.96l-1.37-1.37c-.4-.4-.92-.59-1.43-.59-.52 0-1.04.2-1.43.59L10.3 9.45l-7.72 7.72c-.78.78-.78 2.05 0 2.83L4 21.41c.39.39.9.59 1.41.59.51 0 1.02-.2 1.41-.59l7.78-7.78 2.81-2.81c.8-.78.8-2.07 0-2.86zM5.41 20L4 18.59l7.72-7.72 1.47 1.35L5.41 20z\"/>\n",
       "  </svg>\n",
       "      </button>\n",
       "      \n",
       "  <style>\n",
       "    .colab-df-container {\n",
       "      display:flex;\n",
       "      flex-wrap:wrap;\n",
       "      gap: 12px;\n",
       "    }\n",
       "\n",
       "    .colab-df-convert {\n",
       "      background-color: #E8F0FE;\n",
       "      border: none;\n",
       "      border-radius: 50%;\n",
       "      cursor: pointer;\n",
       "      display: none;\n",
       "      fill: #1967D2;\n",
       "      height: 32px;\n",
       "      padding: 0 0 0 0;\n",
       "      width: 32px;\n",
       "    }\n",
       "\n",
       "    .colab-df-convert:hover {\n",
       "      background-color: #E2EBFA;\n",
       "      box-shadow: 0px 1px 2px rgba(60, 64, 67, 0.3), 0px 1px 3px 1px rgba(60, 64, 67, 0.15);\n",
       "      fill: #174EA6;\n",
       "    }\n",
       "\n",
       "    [theme=dark] .colab-df-convert {\n",
       "      background-color: #3B4455;\n",
       "      fill: #D2E3FC;\n",
       "    }\n",
       "\n",
       "    [theme=dark] .colab-df-convert:hover {\n",
       "      background-color: #434B5C;\n",
       "      box-shadow: 0px 1px 3px 1px rgba(0, 0, 0, 0.15);\n",
       "      filter: drop-shadow(0px 1px 2px rgba(0, 0, 0, 0.3));\n",
       "      fill: #FFFFFF;\n",
       "    }\n",
       "  </style>\n",
       "\n",
       "      <script>\n",
       "        const buttonEl =\n",
       "          document.querySelector('#df-7d9c0cbc-558d-45cc-a495-fe7b56d3f4b4 button.colab-df-convert');\n",
       "        buttonEl.style.display =\n",
       "          google.colab.kernel.accessAllowed ? 'block' : 'none';\n",
       "\n",
       "        async function convertToInteractive(key) {\n",
       "          const element = document.querySelector('#df-7d9c0cbc-558d-45cc-a495-fe7b56d3f4b4');\n",
       "          const dataTable =\n",
       "            await google.colab.kernel.invokeFunction('convertToInteractive',\n",
       "                                                     [key], {});\n",
       "          if (!dataTable) return;\n",
       "\n",
       "          const docLinkHtml = 'Like what you see? Visit the ' +\n",
       "            '<a target=\"_blank\" href=https://colab.research.google.com/notebooks/data_table.ipynb>data table notebook</a>'\n",
       "            + ' to learn more about interactive tables.';\n",
       "          element.innerHTML = '';\n",
       "          dataTable['output_type'] = 'display_data';\n",
       "          await google.colab.output.renderOutput(dataTable, element);\n",
       "          const docLink = document.createElement('div');\n",
       "          docLink.innerHTML = docLinkHtml;\n",
       "          element.appendChild(docLink);\n",
       "        }\n",
       "      </script>\n",
       "    </div>\n",
       "  </div>\n",
       "  "
      ],
      "text/plain": [
       "          date  gender      region    sales\n",
       "739 2022-02-28    Male       South  10768.0\n",
       "460 2022-11-15    Male       South  11567.0\n",
       "462 2022-09-28    Male       South  13055.0\n",
       "213 2022-01-25    Male       South  13230.0\n",
       "534 2022-07-15    Male       South  14296.0\n",
       "..         ...     ...         ...      ...\n",
       "407 2022-12-10  Female  North-East  22545.0\n",
       "12  2022-11-25  Female  North-East      NaN\n",
       "13  2022-08-14  Female  North-East      NaN\n",
       "14  2022-02-24  Female  North-East      NaN\n",
       "15  2022-08-03  Female  North-East      NaN\n",
       "\n",
       "[1000 rows x 4 columns]"
      ]
     },
     "execution_count": 13,
     "metadata": {},
     "output_type": "execute_result"
    }
   ],
   "source": [
    "df.sort_values(by=['gender', 'region'], ascending=[False, False])"
   ]
  },
  {
   "cell_type": "markdown",
   "metadata": {
    "id": "oirTyJ2qyiXk"
   },
   "source": [
    "Question 2"
   ]
  },
  {
   "cell_type": "markdown",
   "metadata": {
    "id": "9lajTQkYyocv"
   },
   "source": [
    "A ValueError would be raised since the two arrays are of different lengths."
   ]
  },
  {
   "cell_type": "code",
   "execution_count": null,
   "metadata": {
    "colab": {
     "base_uri": "https://localhost:8080/",
     "height": 323
    },
    "id": "WGA-fZ2wu6Fu",
    "outputId": "eb90e4c8-e477-4220-f652-a48f3f011feb"
   },
   "outputs": [
    {
     "ename": "ValueError",
     "evalue": "ignored",
     "output_type": "error",
     "traceback": [
      "\u001b[0;31m---------------------------------------------------------------------------\u001b[0m",
      "\u001b[0;31mValueError\u001b[0m                                Traceback (most recent call last)",
      "\u001b[0;32m<ipython-input-12-287542f20455>\u001b[0m in \u001b[0;36m<module>\u001b[0;34m()\u001b[0m\n\u001b[0;32m----> 1\u001b[0;31m \u001b[0mdf\u001b[0m\u001b[0;34m.\u001b[0m\u001b[0msort_values\u001b[0m\u001b[0;34m(\u001b[0m\u001b[0mby\u001b[0m\u001b[0;34m=\u001b[0m\u001b[0;34m[\u001b[0m\u001b[0;34m'region'\u001b[0m\u001b[0;34m,\u001b[0m\u001b[0;34m'gender'\u001b[0m\u001b[0;34m]\u001b[0m\u001b[0;34m,\u001b[0m\u001b[0mascending\u001b[0m \u001b[0;34m=\u001b[0m \u001b[0;34m[\u001b[0m\u001b[0;32mTrue\u001b[0m\u001b[0;34m,\u001b[0m\u001b[0;32mTrue\u001b[0m\u001b[0;34m,\u001b[0m \u001b[0;32mFalse\u001b[0m\u001b[0;34m]\u001b[0m\u001b[0;34m)\u001b[0m\u001b[0;34m\u001b[0m\u001b[0;34m\u001b[0m\u001b[0m\n\u001b[0m",
      "\u001b[0;32m/usr/local/lib/python3.7/dist-packages/pandas/util/_decorators.py\u001b[0m in \u001b[0;36mwrapper\u001b[0;34m(*args, **kwargs)\u001b[0m\n\u001b[1;32m    309\u001b[0m                     \u001b[0mstacklevel\u001b[0m\u001b[0;34m=\u001b[0m\u001b[0mstacklevel\u001b[0m\u001b[0;34m,\u001b[0m\u001b[0;34m\u001b[0m\u001b[0;34m\u001b[0m\u001b[0m\n\u001b[1;32m    310\u001b[0m                 )\n\u001b[0;32m--> 311\u001b[0;31m             \u001b[0;32mreturn\u001b[0m \u001b[0mfunc\u001b[0m\u001b[0;34m(\u001b[0m\u001b[0;34m*\u001b[0m\u001b[0margs\u001b[0m\u001b[0;34m,\u001b[0m \u001b[0;34m**\u001b[0m\u001b[0mkwargs\u001b[0m\u001b[0;34m)\u001b[0m\u001b[0;34m\u001b[0m\u001b[0;34m\u001b[0m\u001b[0m\n\u001b[0m\u001b[1;32m    312\u001b[0m \u001b[0;34m\u001b[0m\u001b[0m\n\u001b[1;32m    313\u001b[0m         \u001b[0;32mreturn\u001b[0m \u001b[0mwrapper\u001b[0m\u001b[0;34m\u001b[0m\u001b[0;34m\u001b[0m\u001b[0m\n",
      "\u001b[0;32m/usr/local/lib/python3.7/dist-packages/pandas/core/frame.py\u001b[0m in \u001b[0;36msort_values\u001b[0;34m(self, by, axis, ascending, inplace, kind, na_position, ignore_index, key)\u001b[0m\n\u001b[1;32m   6236\u001b[0m         \u001b[0;32mif\u001b[0m \u001b[0mis_sequence\u001b[0m\u001b[0;34m(\u001b[0m\u001b[0mascending\u001b[0m\u001b[0;34m)\u001b[0m \u001b[0;32mand\u001b[0m \u001b[0mlen\u001b[0m\u001b[0;34m(\u001b[0m\u001b[0mby\u001b[0m\u001b[0;34m)\u001b[0m \u001b[0;34m!=\u001b[0m \u001b[0mlen\u001b[0m\u001b[0;34m(\u001b[0m\u001b[0mascending\u001b[0m\u001b[0;34m)\u001b[0m\u001b[0;34m:\u001b[0m\u001b[0;34m\u001b[0m\u001b[0;34m\u001b[0m\u001b[0m\n\u001b[1;32m   6237\u001b[0m             raise ValueError(\n\u001b[0;32m-> 6238\u001b[0;31m                 \u001b[0;34mf\"Length of ascending ({len(ascending)}) != length of by ({len(by)})\"\u001b[0m\u001b[0;34m\u001b[0m\u001b[0;34m\u001b[0m\u001b[0m\n\u001b[0m\u001b[1;32m   6239\u001b[0m             )\n\u001b[1;32m   6240\u001b[0m         \u001b[0;32mif\u001b[0m \u001b[0mlen\u001b[0m\u001b[0;34m(\u001b[0m\u001b[0mby\u001b[0m\u001b[0;34m)\u001b[0m \u001b[0;34m>\u001b[0m \u001b[0;36m1\u001b[0m\u001b[0;34m:\u001b[0m\u001b[0;34m\u001b[0m\u001b[0;34m\u001b[0m\u001b[0m\n",
      "\u001b[0;31mValueError\u001b[0m: Length of ascending (3) != length of by (2)"
     ]
    }
   ],
   "source": [
    "df.sort_values(\n",
    "    by=['region','gender'],\n",
    "    ascending = [True,True, False])"
   ]
  },
  {
   "cell_type": "markdown",
   "metadata": {
    "id": "IDufCvbdy2qN"
   },
   "source": [
    "Question 3"
   ]
  },
  {
   "cell_type": "markdown",
   "metadata": {
    "id": "8hExJaEHyWL3"
   },
   "source": [
    "You could combine .sort_values() with .iloc:"
   ]
  },
  {
   "cell_type": "code",
   "execution_count": 14,
   "metadata": {
    "colab": {
     "base_uri": "https://localhost:8080/"
    },
    "id": "MN_YzPKuyVLp",
    "outputId": "3685cad6-10d2-4f76-89a9-4547cf83aa7d"
   },
   "outputs": [
    {
     "name": "stdout",
     "output_type": "stream",
     "text": [
      "37878.0\n"
     ]
    }
   ],
   "source": [
    "print(\n",
    "    df.sort_values(\n",
    "        by='sales',         # Sort by Sales\n",
    "        ascending=False     # Sort in descending order\n",
    "    ).iloc[1, 3])           # Access the second item in the fourth column"
   ]
  }
 ],
 "metadata": {
  "colab": {
   "collapsed_sections": [],
   "name": "1.3B5.ipynb",
   "provenance": []
  },
  "kernelspec": {
   "display_name": "Python 3 (ipykernel)",
   "language": "python",
   "name": "python3"
  },
  "language_info": {
   "codemirror_mode": {
    "name": "ipython",
    "version": 3
   },
   "file_extension": ".py",
   "mimetype": "text/x-python",
   "name": "python",
   "nbconvert_exporter": "python",
   "pygments_lexer": "ipython3",
   "version": "3.9.12"
  }
 },
 "nbformat": 4,
 "nbformat_minor": 1
}
