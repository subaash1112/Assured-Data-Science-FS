{
 "cells": [
  {
   "cell_type": "code",
   "execution_count": 1,
   "id": "b673f00c",
   "metadata": {},
   "outputs": [],
   "source": [
    "# Loading a Sample DataFrame\n",
    "\n",
    "import pandas as pd\n",
    "df = pd.read_csv(\"https://raw.githubusercontent.com/subaash1112/Assured-Data-Science-FS/data/students.csv\")"
   ]
  },
  {
   "cell_type": "code",
   "execution_count": 3,
   "id": "03e36a64",
   "metadata": {},
   "outputs": [
    {
     "name": "stdout",
     "output_type": "stream",
     "text": [
      "   Grade    Class Type  Students\n",
      "0     10      Beginner        35\n",
      "1     11  Intermediate        20\n",
      "2     10      Beginner        15\n",
      "3     12      Advanced        15\n",
      "4      9  Intermediate        30\n"
     ]
    }
   ],
   "source": [
    "print(df.head())"
   ]
  },
  {
   "cell_type": "code",
   "execution_count": 5,
   "id": "4b760a63",
   "metadata": {},
   "outputs": [
    {
     "name": "stdout",
     "output_type": "stream",
     "text": [
      "20    32\n",
      "30    23\n",
      "25    16\n",
      "15    12\n",
      "35    10\n",
      "40     7\n",
      "Name: Students, dtype: int64\n"
     ]
    }
   ],
   "source": [
    "# Calculating a Frequency Table of a DataFrame Column\n",
    "print(df['Students'].value_counts())"
   ]
  },
  {
   "cell_type": "code",
   "execution_count": 6,
   "id": "2cdc8a61",
   "metadata": {},
   "outputs": [
    {
     "name": "stdout",
     "output_type": "stream",
     "text": [
      "32\n"
     ]
    }
   ],
   "source": [
    "#  Accessing the counts of one category\n",
    "print(df['Students'].value_counts()[20])"
   ]
  },
  {
   "cell_type": "code",
   "execution_count": 7,
   "id": "08accdef",
   "metadata": {},
   "outputs": [
    {
     "name": "stdout",
     "output_type": "stream",
     "text": [
      "40     7\n",
      "35    10\n",
      "15    12\n",
      "25    16\n",
      "30    23\n",
      "20    32\n",
      "Name: Students, dtype: int64\n"
     ]
    }
   ],
   "source": [
    "# Sorting value counts in ascending order\n",
    "print(df['Students'].value_counts(ascending=True))"
   ]
  },
  {
   "cell_type": "code",
   "execution_count": 8,
   "id": "63d7f983",
   "metadata": {},
   "outputs": [
    {
     "name": "stdout",
     "output_type": "stream",
     "text": [
      "15    12\n",
      "20    32\n",
      "25    16\n",
      "30    23\n",
      "35    10\n",
      "40     7\n",
      "Name: Students, dtype: int64\n"
     ]
    }
   ],
   "source": [
    "# Sorting frequency table by its index\n",
    "print(df['Students'].value_counts().sort_index(ascending=True))"
   ]
  },
  {
   "cell_type": "code",
   "execution_count": 9,
   "id": "64e1438d",
   "metadata": {},
   "outputs": [
    {
     "name": "stdout",
     "output_type": "stream",
     "text": [
      "20    0.32\n",
      "30    0.23\n",
      "25    0.16\n",
      "15    0.12\n",
      "35    0.10\n",
      "40    0.07\n",
      "Name: Students, dtype: float64\n"
     ]
    }
   ],
   "source": [
    "# Showing percentages of value counts\n",
    "print(df['Students'].value_counts(normalize=True))"
   ]
  },
  {
   "cell_type": "code",
   "execution_count": 11,
   "id": "0493d757",
   "metadata": {},
   "outputs": [
    {
     "name": "stdout",
     "output_type": "stream",
     "text": [
      "(14.974, 21.25]    44\n",
      "(27.5, 33.75]      23\n",
      "(33.75, 40.0]      17\n",
      "(21.25, 27.5]      16\n",
      "Name: Students, dtype: int64\n"
     ]
    }
   ],
   "source": [
    "#Binning data with Pandas value_counts\n",
    "print(df['Students'].value_counts(bins=4))"
   ]
  },
  {
   "cell_type": "code",
   "execution_count": 13,
   "id": "41dfe1bb",
   "metadata": {},
   "outputs": [
    {
     "name": "stdout",
     "output_type": "stream",
     "text": [
      "   Grade    Class Type  Students\n",
      "0     10      Beginner       NaN\n",
      "1     11  Intermediate       NaN\n",
      "2     10      Beginner       NaN\n",
      "3     12      Advanced       NaN\n",
      "4      9  Intermediate       NaN\n"
     ]
    }
   ],
   "source": [
    "# Inserting missing values into the DataFrame\n",
    "df.loc[:10,'Students']= None\n",
    "\n",
    "print(df.head())"
   ]
  },
  {
   "cell_type": "code",
   "execution_count": 14,
   "id": "802c4f87",
   "metadata": {},
   "outputs": [
    {
     "name": "stdout",
     "output_type": "stream",
     "text": [
      "20.0    27\n",
      "30.0    21\n",
      "25.0    16\n",
      "15.0    10\n",
      "35.0     8\n",
      "40.0     7\n",
      "Name: Students, dtype: int64\n"
     ]
    }
   ],
   "source": [
    "# Seeing value counts\n",
    "print(df['Students'].value_counts())"
   ]
  },
  {
   "cell_type": "code",
   "execution_count": 15,
   "id": "86b34835",
   "metadata": {},
   "outputs": [
    {
     "name": "stdout",
     "output_type": "stream",
     "text": [
      "20.0    27\n",
      "30.0    21\n",
      "25.0    16\n",
      "NaN     11\n",
      "15.0    10\n",
      "35.0     8\n",
      "40.0     7\n",
      "Name: Students, dtype: int64\n"
     ]
    }
   ],
   "source": [
    "# Including Missing values in the value_counts method\n",
    "print(df['Students'].value_counts(dropna=False))"
   ]
  },
  {
   "cell_type": "code",
   "execution_count": 16,
   "id": "3da72429",
   "metadata": {},
   "outputs": [
    {
     "name": "stdout",
     "output_type": "stream",
     "text": [
      "Class Type    Grade\n",
      "Beginner      11       14\n",
      "Advanced      10       11\n",
      "Intermediate  10       10\n",
      "              12       10\n",
      "              9         9\n",
      "Advanced      9         7\n",
      "              11        7\n",
      "Beginner      10        7\n",
      "Intermediate  11        7\n",
      "Advanced      12        6\n",
      "Beginner      9         6\n",
      "              12        6\n",
      "dtype: int64\n"
     ]
    }
   ],
   "source": [
    "# Applying .value_counts() to a multiple columns\n",
    "print(df.value_counts(subset=['Class Type', 'Grade']))"
   ]
  },
  {
   "cell_type": "code",
   "execution_count": 17,
   "id": "0ff0037b",
   "metadata": {},
   "outputs": [
    {
     "name": "stdout",
     "output_type": "stream",
     "text": [
      "Class Type    Grade\n",
      "Advanced      9         7\n",
      "              10       11\n",
      "              11        7\n",
      "              12        6\n",
      "Beginner      9         6\n",
      "              10        7\n",
      "              11       14\n",
      "              12        6\n",
      "Intermediate  9         9\n",
      "              10       10\n",
      "              11        7\n",
      "              12       10\n",
      "dtype: int64\n"
     ]
    }
   ],
   "source": [
    "# Sorting the index after applying .value_counts to a DataFrame\n",
    "print(df.value_counts(subset=['Class Type', 'Grade']).sort_index())"
   ]
  },
  {
   "cell_type": "code",
   "execution_count": null,
   "id": "c1ed0e60",
   "metadata": {},
   "outputs": [],
   "source": []
  },
  {
   "cell_type": "markdown",
   "id": "209cca89",
   "metadata": {},
   "source": [
    "# Practise 1.3B3 "
   ]
  },
  {
   "cell_type": "code",
   "execution_count": 19,
   "id": "faa2a559",
   "metadata": {},
   "outputs": [],
   "source": [
    "from numpy import nan"
   ]
  },
  {
   "cell_type": "code",
   "execution_count": 20,
   "id": "925224a8",
   "metadata": {},
   "outputs": [],
   "source": [
    "import pandas as pd\n",
    "df = pd.read_csv('https://raw.githubusercontent.com/subaash1112/Assured-Data-Science-FS/data/students.csv')\n",
    "df.loc[:10, 'Students'] = None"
   ]
  },
  {
   "cell_type": "code",
   "execution_count": null,
   "id": "0a2727ef",
   "metadata": {},
   "outputs": [],
   "source": []
  }
 ],
 "metadata": {
  "kernelspec": {
   "display_name": "Python 3 (ipykernel)",
   "language": "python",
   "name": "python3"
  },
  "language_info": {
   "codemirror_mode": {
    "name": "ipython",
    "version": 3
   },
   "file_extension": ".py",
   "mimetype": "text/x-python",
   "name": "python",
   "nbconvert_exporter": "python",
   "pygments_lexer": "ipython3",
   "version": "3.9.12"
  }
 },
 "nbformat": 4,
 "nbformat_minor": 5
}
