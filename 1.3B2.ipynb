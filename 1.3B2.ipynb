{
 "cells": [
  {
   "cell_type": "code",
   "execution_count": 1,
   "id": "ebc458c7",
   "metadata": {},
   "outputs": [],
   "source": [
    "import pandas as pd"
   ]
  },
  {
   "cell_type": "code",
   "execution_count": 9,
   "id": "f552427a",
   "metadata": {},
   "outputs": [],
   "source": [
    "# Loading our Pandas DataFrame\n",
    "df = pd.read_csv(\"https://raw.githubusercontent.com/subaash1112/Assured-Data-Science-FS/data/sales.csv\")"
   ]
  },
  {
   "cell_type": "code",
   "execution_count": 10,
   "id": "140eade0",
   "metadata": {},
   "outputs": [
    {
     "name": "stdout",
     "output_type": "stream",
     "text": [
      "0       8/22/2022\n",
      "1        3/5/2022\n",
      "2        2/9/2022\n",
      "3       6/22/2022\n",
      "4       8/10/2022\n",
      "          ...    \n",
      "995      6/2/2022\n",
      "996     5/20/2022\n",
      "997      4/2/2022\n",
      "998     12/7/2022\n",
      "999    12/19/2022\n",
      "Name: date, Length: 1000, dtype: object\n"
     ]
    }
   ],
   "source": [
    "print(df.date)"
   ]
  },
  {
   "cell_type": "code",
   "execution_count": 11,
   "id": "292644d1",
   "metadata": {},
   "outputs": [
    {
     "name": "stdout",
     "output_type": "stream",
     "text": [
      "<class 'pandas.core.series.Series'>\n"
     ]
    }
   ],
   "source": [
    "# Accesing the 'date' column in a Pandas Dataframe\n",
    "print(type(df.date))"
   ]
  },
  {
   "cell_type": "code",
   "execution_count": 12,
   "id": "c30a367f",
   "metadata": {},
   "outputs": [
    {
     "name": "stdout",
     "output_type": "stream",
     "text": [
      "0        Male\n",
      "1        Male\n",
      "2        Male\n",
      "3        Male\n",
      "4      Female\n",
      "        ...  \n",
      "995    Female\n",
      "996    Female\n",
      "997      Male\n",
      "998      Male\n",
      "999    Female\n",
      "Name: gender, Length: 1000, dtype: object\n"
     ]
    }
   ],
   "source": [
    "# Selecting a column with square brackets\n",
    "print(df['gender'])"
   ]
  },
  {
   "cell_type": "code",
   "execution_count": 13,
   "id": "38390d96",
   "metadata": {},
   "outputs": [
    {
     "name": "stdout",
     "output_type": "stream",
     "text": [
      "     gender      region\n",
      "0      Male  North-West\n",
      "1      Male  North-East\n",
      "2      Male  North-East\n",
      "3      Male  North-East\n",
      "4    Female  North-West\n",
      "..      ...         ...\n",
      "995  Female  North-West\n",
      "996  Female  North-East\n",
      "997    Male  North-East\n",
      "998    Male  North-East\n",
      "999  Female  North-West\n",
      "\n",
      "[1000 rows x 2 columns]\n"
     ]
    }
   ],
   "source": [
    "## Selecting multiple columns in a Pandas DataFrame\n",
    "print(df[['gender', 'region']])"
   ]
  },
  {
   "cell_type": "code",
   "execution_count": 14,
   "id": "60be6185",
   "metadata": {},
   "outputs": [
    {
     "name": "stdout",
     "output_type": "stream",
     "text": [
      "date       8/22/2022\n",
      "gender          Male\n",
      "region    North-West\n",
      "sales          20381\n",
      "Name: 0, dtype: object\n"
     ]
    }
   ],
   "source": [
    "# Accessing the first row in a Pandas dataframe\n",
    "print(df.loc[0,:])"
   ]
  },
  {
   "cell_type": "code",
   "execution_count": 15,
   "id": "6830228b",
   "metadata": {},
   "outputs": [
    {
     "name": "stdout",
     "output_type": "stream",
     "text": [
      "date       8/22/2022\n",
      "gender          Male\n",
      "region    North-West\n",
      "sales          20381\n",
      "Name: 0, dtype: object\n"
     ]
    }
   ],
   "source": [
    "# Accessing a value in Pandas\n",
    "print(df.iloc[0,:])"
   ]
  },
  {
   "cell_type": "code",
   "execution_count": 16,
   "id": "422e4079",
   "metadata": {},
   "outputs": [
    {
     "name": "stdout",
     "output_type": "stream",
     "text": [
      "20381\n"
     ]
    }
   ],
   "source": [
    "# Accessing a value in Pandas\n",
    "print(df.loc[0, 'sales'])"
   ]
  },
  {
   "cell_type": "code",
   "execution_count": 17,
   "id": "7d175187",
   "metadata": {},
   "outputs": [
    {
     "name": "stdout",
     "output_type": "stream",
     "text": [
      "16589\n"
     ]
    }
   ],
   "source": [
    "# Accessing the last value for sales\n",
    "print(df.iloc[-1, 3])"
   ]
  },
  {
   "cell_type": "code",
   "execution_count": 18,
   "id": "0ef20929",
   "metadata": {},
   "outputs": [
    {
     "name": "stdout",
     "output_type": "stream",
     "text": [
      "0       True\n",
      "1      False\n",
      "2      False\n",
      "3      False\n",
      "4       True\n",
      "       ...  \n",
      "995     True\n",
      "996    False\n",
      "997    False\n",
      "998    False\n",
      "999     True\n",
      "Name: region, Length: 1000, dtype: bool\n"
     ]
    }
   ],
   "source": [
    "# Applying a condition to a dataframe column\n",
    "print(df['region'] == 'North-West')"
   ]
  },
  {
   "cell_type": "code",
   "execution_count": 19,
   "id": "65c8dc11",
   "metadata": {},
   "outputs": [
    {
     "name": "stdout",
     "output_type": "stream",
     "text": [
      "           date  gender      region  sales\n",
      "0     8/22/2022    Male  North-West  20381\n",
      "4     8/10/2022  Female  North-West  15007\n",
      "7      7/8/2022    Male  North-West  13650\n",
      "11    4/30/2022  Female  North-West  19631\n",
      "16    4/18/2022    Male  North-West  17397\n",
      "..          ...     ...         ...    ...\n",
      "988   7/10/2022    Male  North-West  12500\n",
      "989  10/14/2022  Female  North-West  15319\n",
      "993   6/11/2022    Male  North-West  14942\n",
      "995    6/2/2022  Female  North-West  14015\n",
      "999  12/19/2022  Female  North-West  16589\n",
      "\n",
      "[322 rows x 4 columns]\n"
     ]
    }
   ],
   "source": [
    "print(df[df['region']=='North-West'])"
   ]
  },
  {
   "cell_type": "code",
   "execution_count": 20,
   "id": "5b6fff2a",
   "metadata": {},
   "outputs": [
    {
     "name": "stdout",
     "output_type": "stream",
     "text": [
      "           date  gender      region  sales\n",
      "0     8/22/2022    Male  North-West  20381\n",
      "4     8/10/2022  Female  North-West  15007\n",
      "11    4/30/2022  Female  North-West  19631\n",
      "16    4/18/2022    Male  North-West  17397\n",
      "17    7/30/2022  Female  North-West  16668\n",
      "..          ...     ...         ...    ...\n",
      "974    5/6/2022  Female  North-West  15112\n",
      "983  11/21/2022    Male  North-West  17904\n",
      "987    2/7/2022    Male  North-West  16905\n",
      "989  10/14/2022  Female  North-West  15319\n",
      "999  12/19/2022  Female  North-West  16589\n",
      "\n",
      "[175 rows x 4 columns]\n"
     ]
    }
   ],
   "source": [
    "# Combining conditions when selecting data\n",
    "print(df[(df['region'] == 'North-West') & (df['sales'] > 15000)])"
   ]
  },
  {
   "cell_type": "code",
   "execution_count": 21,
   "id": "e3da53b7",
   "metadata": {},
   "outputs": [
    {
     "name": "stdout",
     "output_type": "stream",
     "text": [
      "        date gender      region  sales country\n",
      "0  8/22/2022   Male  North-West  20381     USA\n",
      "1   3/5/2022   Male  North-East  14495     USA\n",
      "2   2/9/2022   Male  North-East  13510     USA\n"
     ]
    }
   ],
   "source": [
    "# Assign a Value to an Entire Column\n",
    "df['country'] = 'USA'\n",
    "print(df.head(3))"
   ]
  },
  {
   "cell_type": "code",
   "execution_count": 22,
   "id": "90964f12",
   "metadata": {},
   "outputs": [
    {
     "name": "stdout",
     "output_type": "stream",
     "text": [
      "        date  gender      region  sales country\n",
      "0  8/22/2022  Female  North-West  20381     USA\n",
      "1   3/5/2022    Male  North-East  14495     USA\n",
      "2   2/9/2022    Male  North-East  13510     USA\n"
     ]
    }
   ],
   "source": [
    "# Changing a cell's value\n",
    "df.iloc[0,1] = 'Female'\n",
    "print(df.head(3))"
   ]
  },
  {
   "cell_type": "code",
   "execution_count": null,
   "id": "5b5f3809",
   "metadata": {},
   "outputs": [],
   "source": []
  }
 ],
 "metadata": {
  "kernelspec": {
   "display_name": "Python 3 (ipykernel)",
   "language": "python",
   "name": "python3"
  },
  "language_info": {
   "codemirror_mode": {
    "name": "ipython",
    "version": 3
   },
   "file_extension": ".py",
   "mimetype": "text/x-python",
   "name": "python",
   "nbconvert_exporter": "python",
   "pygments_lexer": "ipython3",
   "version": "3.9.12"
  }
 },
 "nbformat": 4,
 "nbformat_minor": 5
}
