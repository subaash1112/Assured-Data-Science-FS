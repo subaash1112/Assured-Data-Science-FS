{
 "cells": [
  {
   "cell_type": "code",
   "execution_count": 1,
   "metadata": {
    "id": "bfZOhkGiqxa7"
   },
   "outputs": [],
   "source": [
    "import pandas as pd"
   ]
  },
  {
   "cell_type": "code",
   "execution_count": 2,
   "metadata": {
    "colab": {
     "base_uri": "https://localhost:8080/"
    },
    "id": "rtj6t-B_qn6V",
    "outputId": "f6e604f6-1e4e-41ce-cc47-27650740082a"
   },
   "outputs": [
    {
     "name": "stdout",
     "output_type": "stream",
     "text": [
      "        date  gender      region  sales\n",
      "0  8/22/2022    Male  North-West  20381\n",
      "1   3/5/2022    Male  North-East  14495\n",
      "2   2/9/2022    Male  North-East  13510\n",
      "3  6/22/2022    Male  North-East  15983\n",
      "4  8/10/2022  Female  North-West  15007\n"
     ]
    }
   ],
   "source": [
    "df = pd.read_csv('https://raw.githubusercontent.com/subaash1112/Assured-Data-Science-FS/data/sales.csv')\n",
    "print(df.head())"
   ]
  },
  {
   "cell_type": "code",
   "execution_count": 4,
   "metadata": {
    "colab": {
     "base_uri": "https://localhost:8080/"
    },
    "id": "qKdXIP1MsnHF",
    "outputId": "4c3d8829-86f1-4937-877e-5ace3d963d27"
   },
   "outputs": [
    {
     "name": "stdout",
     "output_type": "stream",
     "text": [
      "19044.489\n"
     ]
    }
   ],
   "source": [
    "# Calculate the average for a single column\n",
    "print(df['sales'].mean())"
   ]
  },
  {
   "cell_type": "code",
   "execution_count": 5,
   "metadata": {
    "colab": {
     "base_uri": "https://localhost:8080/"
    },
    "id": "9vpzDpertRTF",
    "outputId": "ccfacfa5-60e4-4a9b-d2e0-035e7dbe4e05"
   },
   "outputs": [
    {
     "name": "stdout",
     "output_type": "stream",
     "text": [
      "sales    19044.489\n",
      "dtype: float64\n"
     ]
    }
   ],
   "source": [
    "# Calculate the average for an entire dataframe\n",
    "print(df.mean(numeric_only=True))"
   ]
  },
  {
   "cell_type": "code",
   "execution_count": 6,
   "metadata": {
    "colab": {
     "base_uri": "https://localhost:8080/"
    },
    "id": "ndfqha6VBMeX",
    "outputId": "6a15a5ce-8f5d-4c41-ac7d-c66eaac3451c"
   },
   "outputs": [
    {
     "name": "stdout",
     "output_type": "stream",
     "text": [
      "sales    5484.674161\n",
      "dtype: float64\n"
     ]
    }
   ],
   "source": [
    "# Calculating the standard deviation for an entire dataframe\n",
    "print(df.std(numeric_only=True))"
   ]
  },
  {
   "cell_type": "code",
   "execution_count": 7,
   "metadata": {
    "colab": {
     "base_uri": "https://localhost:8080/"
    },
    "id": "0FUQH0oIEZDj",
    "outputId": "4291a1e7-6707-4aa1-c6e0-d252552f6a6d"
   },
   "outputs": [
    {
     "name": "stdout",
     "output_type": "stream",
     "text": [
      "sales    0.827105\n",
      "dtype: float64\n"
     ]
    }
   ],
   "source": [
    "# Calculating skewness using .skew()\n",
    "print(df.skew(numeric_only=True))"
   ]
  },
  {
   "cell_type": "markdown",
   "metadata": {
    "id": "S5C7OZtfHqEo"
   },
   "source": [
    "Since you’re hoping to add up all the values in a given column or across the entire DataFrame, we know that we’re hoping to calculate the sum. When we search for sum, a number of different items are returned, including the pandas.DataFrame.sum page. Here, we can see that we can simply apply the method to either the DataFrame or to the column."
   ]
  },
  {
   "cell_type": "code",
   "execution_count": null,
   "metadata": {
    "id": "-aW4qI-fHlYw"
   },
   "outputs": [],
   "source": [
    "print(df['sales'].sum())"
   ]
  },
  {
   "cell_type": "code",
   "execution_count": 8,
   "metadata": {
    "colab": {
     "base_uri": "https://localhost:8080/"
    },
    "id": "QlVGG063JGcg",
    "outputId": "b0a2a61f-322e-4523-de49-06b2cb0fe571"
   },
   "outputs": [
    {
     "name": "stdout",
     "output_type": "stream",
     "text": [
      "              sales\n",
      "count   1000.000000\n",
      "mean   19044.489000\n",
      "std     5484.674161\n",
      "min     6084.000000\n",
      "25%    15628.000000\n",
      "50%    17983.500000\n",
      "75%    21612.500000\n",
      "max    43775.000000\n"
     ]
    }
   ],
   "source": [
    "# Using the Pandas .describe() method\n",
    "print(df.describe())"
   ]
  },
  {
   "cell_type": "code",
   "execution_count": 9,
   "metadata": {
    "colab": {
     "base_uri": "https://localhost:8080/"
    },
    "id": "kM7oeQEtKcx1",
    "outputId": "e353472a-8eeb-42af-d624-c5515d8c81b7"
   },
   "outputs": [
    {
     "name": "stdout",
     "output_type": "stream",
     "text": [
      "['North-West' 'North-East' 'South']\n"
     ]
    }
   ],
   "source": [
    "# Getting Unique Values in the region Column\n",
    "print(df['region'].unique())"
   ]
  },
  {
   "cell_type": "code",
   "execution_count": 10,
   "metadata": {
    "colab": {
     "base_uri": "https://localhost:8080/"
    },
    "id": "44qgaLdtLU2x",
    "outputId": "c565965e-f34d-4377-d003-83ddae80c74e"
   },
   "outputs": [
    {
     "name": "stdout",
     "output_type": "stream",
     "text": [
      "gender      Female  Male\n",
      "region                  \n",
      "North-East     177   170\n",
      "North-West     161   161\n",
      "South          167   164\n"
     ]
    }
   ],
   "source": [
    "# Creating Your First Crosstab\n",
    "tab = pd.crosstab(\n",
    "    index=df['region'],\n",
    "    columns=df['gender'],\n",
    ")\n",
    "\n",
    "print(tab)"
   ]
  },
  {
   "cell_type": "code",
   "execution_count": 11,
   "metadata": {
    "colab": {
     "base_uri": "https://localhost:8080/"
    },
    "id": "o4KLTjLPL2pK",
    "outputId": "14de1460-bc8e-4581-a908-e221de53866b"
   },
   "outputs": [
    {
     "name": "stdout",
     "output_type": "stream",
     "text": [
      "gender       Female     Male\n",
      "region                      \n",
      "North-East  3051132  2981835\n",
      "North-West  2455899  2457091\n",
      "South       4135688  3962844\n"
     ]
    }
   ],
   "source": [
    "# Adding Values Using a Pandas Crosstab\n",
    "tab = pd.crosstab(\n",
    "    index=df['region'],\n",
    "    columns=df['gender'],\n",
    "    values=df['sales'],\n",
    "    aggfunc='sum'\n",
    ")\n",
    "\n",
    "print(tab)"
   ]
  },
  {
   "cell_type": "markdown",
   "metadata": {
    "id": "s6X5QsdkN7Om"
   },
   "source": [
    "While searching through the pandas documentation, you might come across the .max() method, which returns the maximum value for a given series. You can apply the method to the sales column, as shown below:"
   ]
  },
  {
   "cell_type": "code",
   "execution_count": 12,
   "metadata": {
    "colab": {
     "base_uri": "https://localhost:8080/"
    },
    "id": "axS9NPfVN67t",
    "outputId": "f5abc88e-e486-46b1-8b8d-cb66b1c6b11c"
   },
   "outputs": [
    {
     "name": "stdout",
     "output_type": "stream",
     "text": [
      "6084\n"
     ]
    }
   ],
   "source": [
    "# Finding the highest sale value\n",
    "print(df['sales'].min())"
   ]
  },
  {
   "cell_type": "markdown",
   "metadata": {
    "id": "TFasvWUyOpNU"
   },
   "source": [
    "Use the **.describe()** method to calculate some high level statistics and then access the ['75%'] value:"
   ]
  },
  {
   "cell_type": "code",
   "execution_count": 13,
   "metadata": {
    "colab": {
     "base_uri": "https://localhost:8080/"
    },
    "id": "l1JQl0rHOufX",
    "outputId": "0eb62932-2d40-4b54-a0d2-087f7460813a"
   },
   "outputs": [
    {
     "name": "stdout",
     "output_type": "stream",
     "text": [
      "21612.5\n"
     ]
    }
   ],
   "source": [
    "# Access the 75th percentile of the sales column\n",
    "\n",
    "print(df['sales'].describe()['75%'])"
   ]
  },
  {
   "cell_type": "markdown",
   "metadata": {
    "id": "UOsZRvt9PTts"
   },
   "source": [
    "One way that you can find this out is by using a crosstab and finding the intersection between Female and South:"
   ]
  },
  {
   "cell_type": "code",
   "execution_count": 14,
   "metadata": {
    "colab": {
     "base_uri": "https://localhost:8080/"
    },
    "id": "2Oo4ADqAPVy2",
    "outputId": "e75cdf49-e335-4f26-8d9e-0527ccbf6394"
   },
   "outputs": [
    {
     "name": "stdout",
     "output_type": "stream",
     "text": [
      "167\n"
     ]
    }
   ],
   "source": [
    "# Determining the number of sales made by women in South region\n",
    "print(pd.crosstab(\n",
    "    index=df['region'],\n",
    "    columns=df['gender']\n",
    ").loc['South', 'Female'])"
   ]
  },
  {
   "cell_type": "markdown",
   "metadata": {
    "id": "eLOD2T2gPwpE"
   },
   "source": [
    "Because the **.unique()** method returns a list, we can easily pass this list into the len() function to calculate the length of the list."
   ]
  },
  {
   "cell_type": "code",
   "execution_count": 15,
   "metadata": {
    "colab": {
     "base_uri": "https://localhost:8080/"
    },
    "id": "XZkJzQXyPynP",
    "outputId": "eab5c071-4072-4ec7-f153-3f2fcfd567aa"
   },
   "outputs": [
    {
     "name": "stdout",
     "output_type": "stream",
     "text": [
      "3\n"
     ]
    }
   ],
   "source": [
    "# Count the number of unique items in the region column\n",
    "print(len(df['region'].unique()))"
   ]
  }
 ],
 "metadata": {
  "colab": {
   "collapsed_sections": [],
   "name": "1.3B4.ipynb",
   "provenance": []
  },
  "kernelspec": {
   "display_name": "Python 3 (ipykernel)",
   "language": "python",
   "name": "python3"
  },
  "language_info": {
   "codemirror_mode": {
    "name": "ipython",
    "version": 3
   },
   "file_extension": ".py",
   "mimetype": "text/x-python",
   "name": "python",
   "nbconvert_exporter": "python",
   "pygments_lexer": "ipython3",
   "version": "3.9.12"
  }
 },
 "nbformat": 4,
 "nbformat_minor": 1
}
