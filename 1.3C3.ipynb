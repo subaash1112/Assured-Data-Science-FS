{
 "cells": [
  {
   "cell_type": "code",
   "execution_count": 2,
   "metadata": {
    "colab": {
     "base_uri": "https://localhost:8080/"
    },
    "id": "xmKvHMcy4Qsf",
    "outputId": "294d0841-b16b-4165-d7dd-672e67795456"
   },
   "outputs": [
    {
     "name": "stdout",
     "output_type": "stream",
     "text": [
      "df1 looks like:\n",
      "   col1 col2 col3\n",
      "0     1    a   a1\n",
      "1     2    b   b2\n",
      "2     3    c   c3\n",
      "\n",
      "df2 looks like:\n",
      "   col1 col2 col3\n",
      "0     4    d   d4\n",
      "1     5    e   e5\n",
      "2     6    f   f6\n",
      "\n",
      "df3 looks like:\n",
      "   col1 col2 col4\n",
      "0     7    g   g7\n",
      "1     8    h   h2\n",
      "2     9    i   i3\n"
     ]
    }
   ],
   "source": [
    "# Loading Sample Pandas DataFrames\n",
    "import pandas as pd\n",
    "\n",
    "df1 = pd.DataFrame.from_dict({'col1': [1, 2, 3], 'col2': ['a', 'b', 'c'], 'col3': ['a1', 'b2', 'c3']})\n",
    "df2 = pd.DataFrame.from_dict({'col1': [4, 5, 6], 'col2': ['d', 'e', 'f'], 'col3': ['d4', 'e5', 'f6']})\n",
    "df3 = pd.DataFrame.from_dict({'col1': [7, 8, 9], 'col2': ['g', 'h', 'i'], 'col4': ['g7', 'h2', 'i3']})\n",
    "\n",
    "print('df1 looks like:')\n",
    "print(df1)\n",
    "print('\\ndf2 looks like:')\n",
    "print(df2)\n",
    "print('\\ndf3 looks like:')\n",
    "print(df3)"
   ]
  },
  {
   "cell_type": "code",
   "execution_count": null,
   "metadata": {
    "colab": {
     "base_uri": "https://localhost:8080/",
     "height": 240
    },
    "id": "OW3VKhbL5vO-",
    "outputId": "03be37a7-40ac-4d7d-c851-53609e5e7b71"
   },
   "outputs": [
    {
     "ename": "NameError",
     "evalue": "ignored",
     "output_type": "error",
     "traceback": [
      "\u001b[0;31m---------------------------------------------------------------------------\u001b[0m",
      "\u001b[0;31mNameError\u001b[0m                                 Traceback (most recent call last)",
      "\u001b[0;32m<ipython-input-4-7a82658cea3a>\u001b[0m in \u001b[0;36m<module>\u001b[0;34m()\u001b[0m\n\u001b[1;32m      2\u001b[0m \u001b[0;32mimport\u001b[0m \u001b[0mpandas\u001b[0m \u001b[0;32mas\u001b[0m \u001b[0mpd\u001b[0m\u001b[0;34m\u001b[0m\u001b[0;34m\u001b[0m\u001b[0m\n\u001b[1;32m      3\u001b[0m pd.concat(\n\u001b[0;32m----> 4\u001b[0;31m     \u001b[0mobjs\u001b[0m\u001b[0;34m,\u001b[0m                   \u001b[0;31m# The Series or DataFrame objects to concatenate\u001b[0m\u001b[0;34m\u001b[0m\u001b[0;34m\u001b[0m\u001b[0m\n\u001b[0m\u001b[1;32m      5\u001b[0m     \u001b[0maxis\u001b[0m\u001b[0;34m=\u001b[0m\u001b[0;36m0\u001b[0m\u001b[0;34m,\u001b[0m                 \u001b[0;31m# The axis to concatenate along\u001b[0m\u001b[0;34m\u001b[0m\u001b[0;34m\u001b[0m\u001b[0m\n\u001b[1;32m      6\u001b[0m     \u001b[0mjoin\u001b[0m\u001b[0;34m=\u001b[0m\u001b[0;34m'outer'\u001b[0m\u001b[0;34m,\u001b[0m           \u001b[0;31m# How to handle additional data elements\u001b[0m\u001b[0;34m\u001b[0m\u001b[0;34m\u001b[0m\u001b[0m\n",
      "\u001b[0;31mNameError\u001b[0m: name 'objs' is not defined"
     ]
    }
   ],
   "source": [
    "# Understanding the Pandas concat() function\n",
    "import pandas as pd\n",
    "pd.concat(\n",
    "    objs,                   # The Series or DataFrame objects to concatenate\n",
    "    axis=0,                 # The axis to concatenate along\n",
    "    join='outer',           # How to handle additional data elements\n",
    "    ignore_index=False,     # Whether to maintain the original index or not\n",
    "    keys=None,              # when multiple levels are passed\n",
    "    levels=None,            # Levels to use to construct a multi-index\n",
    "    names=None,             # Names for levels to use in multi-index\n",
    "    verify_integrity=False, # Check if the new axis contains duplicates\n",
    "    sort=False,             # Sort the non-concatenation axis, if columns aren't aligned\n",
    "    copy=True               # If False, do not copy data unnecessarily\n",
    ")"
   ]
  },
  {
   "cell_type": "code",
   "execution_count": null,
   "metadata": {
    "colab": {
     "base_uri": "https://localhost:8080/"
    },
    "id": "BbmN0wNo6aip",
    "outputId": "f6a41886-19f9-457d-9a24-f14f96af11e7"
   },
   "outputs": [
    {
     "name": "stdout",
     "output_type": "stream",
     "text": [
      "   col1 col2 col3\n",
      "0     1    a   a1\n",
      "1     2    b   b2\n",
      "2     3    c   c3\n",
      "0     4    d   d4\n",
      "1     5    e   e5\n",
      "2     6    f   f6\n"
     ]
    }
   ],
   "source": [
    "# Concatenating simple DataFrames\n",
    "df_concat = pd.concat([df1, df2])\n",
    "print(df_concat)"
   ]
  },
  {
   "cell_type": "code",
   "execution_count": null,
   "metadata": {
    "colab": {
     "base_uri": "https://localhost:8080/"
    },
    "id": "tlK2awYX7Auy",
    "outputId": "f4c9b2df-b088-4a0c-d493-dc8165b1c66d"
   },
   "outputs": [
    {
     "name": "stdout",
     "output_type": "stream",
     "text": [
      "   col1 col2 col3\n",
      "0     1    a   a1\n",
      "1     2    b   b2\n",
      "2     3    c   c3\n",
      "3     4    d   d4\n",
      "4     5    e   e5\n",
      "5     6    f   f6\n"
     ]
    }
   ],
   "source": [
    "# Ignoring an index when appending\n",
    "df_concat = pd.concat([df1, df2], ignore_index=True)\n",
    "print(df_concat)\n"
   ]
  },
  {
   "cell_type": "code",
   "execution_count": null,
   "metadata": {
    "colab": {
     "base_uri": "https://localhost:8080/"
    },
    "id": "9T1p-A2-7rKs",
    "outputId": "e0e65634-b09d-4a41-b5e5-26143e27cc25"
   },
   "outputs": [
    {
     "name": "stdout",
     "output_type": "stream",
     "text": [
      "   col1 col2 col3 col4\n",
      "0     1    a   a1  NaN\n",
      "1     2    b   b2  NaN\n",
      "2     3    c   c3  NaN\n",
      "3     7    g  NaN   g7\n",
      "4     8    h  NaN   h2\n",
      "5     9    i  NaN   i3\n"
     ]
    }
   ],
   "source": [
    "# Concatenating DataFrames with Different Columns\n",
    "df_concat = pd.concat([df1, df3], ignore_index=True)\n",
    "print(df_concat)"
   ]
  },
  {
   "cell_type": "code",
   "execution_count": null,
   "metadata": {
    "colab": {
     "base_uri": "https://localhost:8080/"
    },
    "id": "sdOJ6vdK8Q-x",
    "outputId": "d7b60113-77d9-43f3-f9ad-7d0f445d3055"
   },
   "outputs": [
    {
     "name": "stdout",
     "output_type": "stream",
     "text": [
      "   col1 col2\n",
      "0     1    a\n",
      "1     2    b\n",
      "2     3    c\n",
      "3     7    g\n",
      "4     8    h\n",
      "5     9    i\n"
     ]
    }
   ],
   "source": [
    "# Changing to an inner concatenation\n",
    "df_concat = pd.concat([df1, df3], ignore_index=True, join='inner')\n",
    "print(df_concat)"
   ]
  },
  {
   "cell_type": "code",
   "execution_count": null,
   "metadata": {
    "colab": {
     "base_uri": "https://localhost:8080/"
    },
    "id": "y5IzQh0n8-30",
    "outputId": "e6ec1308-b2a4-4541-a7c6-3ccac049e187"
   },
   "outputs": [
    {
     "name": "stdout",
     "output_type": "stream",
     "text": [
      "   col1 col2 col3 col4\n",
      "0     1    a   a1  NaN\n",
      "1     2    b   b2  NaN\n",
      "2     3    c   c3  NaN\n",
      "3     4    d   d4  NaN\n",
      "4     5    e   e5  NaN\n",
      "5     6    f   f6  NaN\n",
      "6     7    g  NaN   g7\n",
      "7     8    h  NaN   h2\n",
      "8     9    i  NaN   i3\n"
     ]
    }
   ],
   "source": [
    "# Concatenating Multiple DataFrames\n",
    "df_concat = pd.concat([df1, df2, df3], ignore_index=True)\n",
    "print(df_concat)"
   ]
  },
  {
   "cell_type": "code",
   "execution_count": null,
   "metadata": {
    "colab": {
     "base_uri": "https://localhost:8080/"
    },
    "id": "otyoG1D79lji",
    "outputId": "e23fae56-d13a-42f1-d959-a908197206c5"
   },
   "outputs": [
    {
     "name": "stdout",
     "output_type": "stream",
     "text": [
      "   col1 col2 col3\n",
      "0     1    a   a1\n",
      "1     2    b   b2\n",
      "2     3    c   c3\n",
      "3     4    d   d4\n",
      "4     5    e   e5\n",
      "5     6    f   f6\n"
     ]
    }
   ],
   "source": [
    "# Appending Two DataFrames with .append()\n",
    "df_append = df1.append(df2, ignore_index=True)\n",
    "print(df_append)"
   ]
  },
  {
   "cell_type": "code",
   "execution_count": 3,
   "metadata": {
    "colab": {
     "base_uri": "https://localhost:8080/"
    },
    "id": "RQKz00spmkaD",
    "outputId": "1956a42f-5bdd-4062-ec06-b04459fb3b2a"
   },
   "outputs": [
    {
     "name": "stdout",
     "output_type": "stream",
     "text": [
      "DataFrame books looks like:\n",
      "   Author ID  Book ID             Name\n",
      "0          1        1  Intro to Python\n",
      "1          1        2       Python 201\n",
      "\n",
      "DataFrame authors looks like:\n",
      "   Author ID  Name\n",
      "0          1   Nik\n",
      "1          2  Kate\n",
      "\n",
      "DataFrame sales looks like:\n",
      "   Author ID  Book ID  Sales\n",
      "0          1        1     10\n",
      "1          1        2     20\n"
     ]
    }
   ],
   "source": [
    "# Loading Sample DataFrames\n",
    "books = pd.DataFrame.from_dict({\n",
    "    'Author ID': [1,1,2,3],\n",
    "    'Book ID': [1,2,1,1],\n",
    "    'Name': ['Intro to Python', 'Python 201', 'Data Science', 'Machine Learning']})\n",
    "\n",
    "authors = pd.DataFrame.from_dict({\n",
    "    'Author ID': [1,2,3,4],\n",
    "    'Name': ['Nik', 'Kate', 'Jane', 'Evan']})\n",
    "\n",
    "sales = pd.DataFrame.from_dict({\n",
    "    'Author ID': [1,1,1,2,3,4],\n",
    "    'Book ID': [1,2,1,1,1,1],\n",
    "    'Sales': [10, 20, 10, 30, 45, 10]})\n",
    "\n",
    "print('DataFrame books looks like:')\n",
    "print(books.head(2))\n",
    "print('\\nDataFrame authors looks like:')\n",
    "print(authors.head(2))\n",
    "print('\\nDataFrame sales looks like:')\n",
    "print(sales.head(2))"
   ]
  },
  {
   "cell_type": "code",
   "execution_count": 4,
   "metadata": {
    "colab": {
     "base_uri": "https://localhost:8080/"
    },
    "id": "MF_oKqSmnfs3",
    "outputId": "295c6e3a-d2a1-4898-9b50-472bf9072d70"
   },
   "outputs": [
    {
     "name": "stdout",
     "output_type": "stream",
     "text": [
      "   Author ID  Book ID            Name_x Name_y\n",
      "0          1        1   Intro to Python    Nik\n",
      "1          1        2        Python 201    Nik\n",
      "2          2        1      Data Science   Kate\n",
      "3          3        1  Machine Learning   Jane\n"
     ]
    }
   ],
   "source": [
    "# Merging DataFrames based on a Single Column\n",
    "merged = pd.merge(\n",
    "    left=books,\n",
    "    right=authors,\n",
    "    left_on='Author ID',\n",
    "    right_on='Author ID'\n",
    ")\n",
    "\n",
    "print(merged)"
   ]
  },
  {
   "cell_type": "code",
   "execution_count": 5,
   "metadata": {
    "colab": {
     "base_uri": "https://localhost:8080/"
    },
    "id": "PMpKTJGLnf6b",
    "outputId": "3a34e165-5989-49a8-fe6a-590f1400b2cc"
   },
   "outputs": [
    {
     "name": "stdout",
     "output_type": "stream",
     "text": [
      "   Author ID  Book ID            Name_x Name_y\n",
      "0          1      1.0   Intro to Python    Nik\n",
      "1          1      2.0        Python 201    Nik\n",
      "2          2      1.0      Data Science   Kate\n",
      "3          3      1.0  Machine Learning   Jane\n",
      "4          4      NaN               NaN   Evan\n"
     ]
    }
   ],
   "source": [
    "# Changing the merge type\n",
    "merged = pd.merge(\n",
    "    left=books,\n",
    "    right=authors,\n",
    "    left_on='Author ID',\n",
    "    right_on='Author ID',\n",
    "    how='outer'\n",
    ")\n",
    "\n",
    "print(merged)"
   ]
  },
  {
   "cell_type": "code",
   "execution_count": 6,
   "metadata": {
    "colab": {
     "base_uri": "https://localhost:8080/"
    },
    "id": "fZjhEGflpIR5",
    "outputId": "41df644d-3a8b-4910-87a2-cecae5823db3"
   },
   "outputs": [
    {
     "name": "stdout",
     "output_type": "stream",
     "text": [
      "   Author ID  Book ID       Name (book) Name (author)\n",
      "0          1        1   Intro to Python           Nik\n",
      "1          1        2        Python 201           Nik\n",
      "2          2        1      Data Science          Kate\n",
      "3          3        1  Machine Learning          Jane\n"
     ]
    }
   ],
   "source": [
    "# Changing the suffixes of duplicate columns\n",
    "merged = pd.merge(\n",
    "    left=books,\n",
    "    right=authors,\n",
    "    left_on='Author ID',\n",
    "    right_on='Author ID',\n",
    "    suffixes=(' (book)', ' (author)')\n",
    ")\n",
    "\n",
    "print(merged)\n"
   ]
  },
  {
   "cell_type": "code",
   "execution_count": 9,
   "metadata": {
    "colab": {
     "base_uri": "https://localhost:8080/"
    },
    "id": "kj1K-7-XrLAk",
    "outputId": "641bb694-f9a2-4274-f63a-500de70166f9"
   },
   "outputs": [
    {
     "name": "stdout",
     "output_type": "stream",
     "text": [
      "   Author ID  Book ID              Name  Sales\n",
      "0          1        1   Intro to Python     10\n",
      "1          1        1   Intro to Python     10\n",
      "2          1        2        Python 201     20\n",
      "3          2        1      Data Science     30\n",
      "4          3        1  Machine Learning     45\n"
     ]
    }
   ],
   "source": [
    "# Merging in Pandas based on a Compound Key\n",
    "merged = pd.merge(\n",
    "    left=books,\n",
    "    right=sales,\n",
    "    on=['Author ID', 'Book ID']\n",
    ")\n",
    "\n",
    "print(merged)"
   ]
  },
  {
   "cell_type": "code",
   "execution_count": 10,
   "metadata": {
    "colab": {
     "base_uri": "https://localhost:8080/",
     "height": 240
    },
    "id": "4__UBRt4sU4X",
    "outputId": "752ad051-f74c-4f10-e3b6-04769a935abb"
   },
   "outputs": [
    {
     "ename": "NameError",
     "evalue": "ignored",
     "output_type": "error",
     "traceback": [
      "\u001b[0;31m---------------------------------------------------------------------------\u001b[0m",
      "\u001b[0;31mNameError\u001b[0m                                 Traceback (most recent call last)",
      "\u001b[0;32m<ipython-input-10-ad16451f6c25>\u001b[0m in \u001b[0;36m<module>\u001b[0;34m()\u001b[0m\n\u001b[1;32m      1\u001b[0m \u001b[0;31m# Understanding the .join() Method\u001b[0m\u001b[0;34m\u001b[0m\u001b[0;34m\u001b[0m\u001b[0;34m\u001b[0m\u001b[0m\n\u001b[0;32m----> 2\u001b[0;31m df.join(\n\u001b[0m\u001b[1;32m      3\u001b[0m     \u001b[0mother\u001b[0m\u001b[0;34m,\u001b[0m\u001b[0;34m\u001b[0m\u001b[0;34m\u001b[0m\u001b[0m\n\u001b[1;32m      4\u001b[0m     \u001b[0mon\u001b[0m\u001b[0;34m=\u001b[0m\u001b[0;32mNone\u001b[0m\u001b[0;34m,\u001b[0m\u001b[0;34m\u001b[0m\u001b[0;34m\u001b[0m\u001b[0m\n\u001b[1;32m      5\u001b[0m     \u001b[0mhow\u001b[0m\u001b[0;34m=\u001b[0m\u001b[0;34m'left'\u001b[0m\u001b[0;34m,\u001b[0m\u001b[0;34m\u001b[0m\u001b[0;34m\u001b[0m\u001b[0m\n",
      "\u001b[0;31mNameError\u001b[0m: name 'df' is not defined"
     ]
    }
   ],
   "source": [
    "# Understanding the .join() Method\n",
    "df.join(\n",
    "    other,\n",
    "    on=None,\n",
    "    how='left',\n",
    "    lsuffix='',\n",
    "    rsuffix='',\n",
    "    sort=False\n",
    ")"
   ]
  },
  {
   "cell_type": "code",
   "execution_count": 11,
   "metadata": {
    "colab": {
     "base_uri": "https://localhost:8080/"
    },
    "id": "IvUGNSe0swIN",
    "outputId": "05a78568-6228-4e41-90b5-cc0586ae1efc"
   },
   "outputs": [
    {
     "name": "stdout",
     "output_type": "stream",
     "text": [
      "   Author ID_books  Book ID        Name_books  Author ID_authors Name_authors\n",
      "0                1        1   Intro to Python                  2         Kate\n",
      "1                1        2        Python 201                  2         Kate\n",
      "2                2        1      Data Science                  3         Jane\n",
      "3                3        1  Machine Learning                  4         Evan\n"
     ]
    }
   ],
   "source": [
    "# Using .join to Join Two DataFrames\n",
    "joined = books.join(authors, on='Author ID', lsuffix='_books', rsuffix='_authors')\n",
    "print(joined)\n",
    " "
   ]
  }
 ],
 "metadata": {
  "colab": {
   "collapsed_sections": [],
   "name": "1.3C3.ipynb",
   "provenance": []
  },
  "kernelspec": {
   "display_name": "Python 3 (ipykernel)",
   "language": "python",
   "name": "python3"
  },
  "language_info": {
   "codemirror_mode": {
    "name": "ipython",
    "version": 3
   },
   "file_extension": ".py",
   "mimetype": "text/x-python",
   "name": "python",
   "nbconvert_exporter": "python",
   "pygments_lexer": "ipython3",
   "version": "3.9.12"
  }
 },
 "nbformat": 4,
 "nbformat_minor": 1
}
