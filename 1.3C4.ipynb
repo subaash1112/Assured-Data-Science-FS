{
 "cells": [
  {
   "cell_type": "code",
   "execution_count": 1,
   "metadata": {
    "colab": {
     "base_uri": "https://localhost:8080/",
     "height": 130
    },
    "id": "2G371yWPyhM_",
    "outputId": "91b0d456-8e3b-4777-9b9c-ccbca1ffa004"
   },
   "outputs": [
    {
     "ename": "SyntaxError",
     "evalue": "ignored",
     "output_type": "error",
     "traceback": [
      "\u001b[0;36m  File \u001b[0;32m\"<ipython-input-1-40499f2db00f>\"\u001b[0;36m, line \u001b[0;32m4\u001b[0m\n\u001b[0;31m    data=,\u001b[0m\n\u001b[0m         ^\u001b[0m\n\u001b[0;31mSyntaxError\u001b[0m\u001b[0;31m:\u001b[0m invalid syntax\n"
     ]
    }
   ],
   "source": [
    "# The syntax of the .pivot_table() function\n",
    "import pandas as pd\n",
    "pd.pivot_table(\n",
    "    data=,\n",
    "    values=None, \n",
    "    index=None, \n",
    "    columns=None, \n",
    "    aggfunc='mean', \n",
    "    fill_value=None, \n",
    "    margins=False, \n",
    "    dropna=True, \n",
    "    margins_name='All', \n",
    "    observed=False,\n",
    "    sort=True\n",
    ") "
   ]
  },
  {
   "cell_type": "code",
   "execution_count": 2,
   "metadata": {
    "colab": {
     "base_uri": "https://localhost:8080/"
    },
    "id": "jhGaWzTu3M6q",
    "outputId": "1709ef7c-539e-4e2e-9245-794127c2571e"
   },
   "outputs": [
    {
     "name": "stdout",
     "output_type": "stream",
     "text": [
      "        Date Region                 Type  Units  Sales\n",
      "0 2020-07-11   East  Children's Clothing   18.0    306\n",
      "1 2020-09-23  North  Children's Clothing   14.0    448\n",
      "2 2020-04-02  South     Women's Clothing   17.0    425\n",
      "3 2020-02-28   East  Children's Clothing   26.0    832\n",
      "4 2020-03-19   West     Women's Clothing    3.0     33\n"
     ]
    }
   ],
   "source": [
    "# Loading a Sample Pandas DataFrame\n",
    "import pandas as pd\n",
    "df = pd.read_excel('https://github.com/subaash1112/Assured-Data-Science-FS/blob/medium_data/sample_pivot.xlsx?raw=true', parse_dates=['Date'])\n",
    "print(df.head())"
   ]
  },
  {
   "cell_type": "code",
   "execution_count": null,
   "metadata": {
    "colab": {
     "base_uri": "https://localhost:8080/"
    },
    "id": "0xJqIwQ_4SwK",
    "outputId": "14061e89-bb5a-47f8-d0c0-3f6948a57007"
   },
   "outputs": [
    {
     "name": "stdout",
     "output_type": "stream",
     "text": [
      "             Sales      Units\n",
      "Region                       \n",
      "East    408.182482  19.732360\n",
      "North   438.924051  19.202643\n",
      "South   432.956204  20.423358\n",
      "West    452.029412  19.294118\n"
     ]
    }
   ],
   "source": [
    "# Creating your first Pandas pivot table\n",
    "pivot = pd.pivot_table(\n",
    "    data=df,\n",
    "    index='Region'\n",
    ")\n",
    "print(pivot)"
   ]
  },
  {
   "cell_type": "code",
   "execution_count": null,
   "metadata": {
    "colab": {
     "base_uri": "https://localhost:8080/"
    },
    "id": "GCm4DjdA5sk3",
    "outputId": "aea041f9-7d38-4698-b9c6-8d75c85911ae"
   },
   "outputs": [
    {
     "name": "stdout",
     "output_type": "stream",
     "text": [
      "             Sales\n",
      "Region            \n",
      "East    408.182482\n",
      "North   438.924051\n",
      "South   432.956204\n",
      "West    452.029412\n"
     ]
    }
   ],
   "source": [
    "# Aggreating Only A Single Column\n",
    "pivot = pd.pivot_table(\n",
    "    data=df,\n",
    "    index='Region',\n",
    "    values='Sales'\n",
    ")\n",
    "\n",
    "print(pivot)"
   ]
  },
  {
   "cell_type": "code",
   "execution_count": null,
   "metadata": {
    "colab": {
     "base_uri": "https://localhost:8080/"
    },
    "id": "L5Hh8JYpD8pG",
    "outputId": "df863350-e6d7-4a9e-9cbf-47ecd22ee158"
   },
   "outputs": [
    {
     "name": "stdout",
     "output_type": "stream",
     "text": [
      "              mean                sum        \n",
      "             Sales      Units   Sales   Units\n",
      "Region                                       \n",
      "East    408.182482  19.732360  167763  8110.0\n",
      "North   438.924051  19.202643  138700  4359.0\n",
      "South   432.956204  20.423358   59315  2798.0\n",
      "West    452.029412  19.294118   61476  2624.0\n"
     ]
    }
   ],
   "source": [
    "pivot = pd.pivot_table(\n",
    "    data=df,\n",
    "    index='Region',\n",
    "    aggfunc=['mean', 'sum']\n",
    ")\n",
    "\n",
    "print(pivot)"
   ]
  },
  {
   "cell_type": "code",
   "execution_count": null,
   "metadata": {
    "colab": {
     "base_uri": "https://localhost:8080/"
    },
    "id": "uLSlONaBEqd9",
    "outputId": "d7ad9e56-f89c-4c4d-f913-15a67bbd4399"
   },
   "outputs": [
    {
     "name": "stdout",
     "output_type": "stream",
     "text": [
      "             Sales   Units\n",
      "Region                    \n",
      "East    408.182482  8110.0\n",
      "North   438.924051  4359.0\n",
      "South   432.956204  2798.0\n",
      "West    452.029412  2624.0\n"
     ]
    }
   ],
   "source": [
    "pivot = pd.pivot_table(\n",
    "    data=df,\n",
    "    index='Region',\n",
    "    aggfunc={'Sales': 'mean', 'Units': 'sum'}\n",
    ")\n",
    "\n",
    "print(pivot)"
   ]
  },
  {
   "cell_type": "code",
   "execution_count": null,
   "metadata": {
    "id": "J9faKK4bFd3C"
   },
   "outputs": [],
   "source": [
    "# Defining a custom function\n",
    "import numpy as np\n",
    "def mean_no_outliers(values):\n",
    "    no_outliers = values.quantile([0.1, 0.9])\n",
    "    mean = np.mean(no_outliers)\n",
    "    return mean"
   ]
  },
  {
   "cell_type": "code",
   "execution_count": null,
   "metadata": {
    "colab": {
     "base_uri": "https://localhost:8080/"
    },
    "id": "CIPVcPm8GDQh",
    "outputId": "fac38dd0-ad5c-440e-8170-369069731cb3"
   },
   "outputs": [
    {
     "name": "stdout",
     "output_type": "stream",
     "text": [
      "              mean mean_no_outliers\n",
      "             Sales            Sales\n",
      "Region                             \n",
      "East    408.182482            436.0\n",
      "North   438.924051            484.5\n",
      "South   432.956204            434.1\n",
      "West    452.029412            497.0\n"
     ]
    }
   ],
   "source": [
    "# Specifying custom functions in a Pandas pivot table\n",
    "pivot = pd.pivot_table(\n",
    "    data=df,\n",
    "    index='Region',\n",
    "    aggfunc=['mean', mean_no_outliers],\n",
    "    values='Sales'\n",
    ")\n",
    "\n",
    "print(pivot)"
   ]
  },
  {
   "cell_type": "code",
   "execution_count": null,
   "metadata": {
    "colab": {
     "base_uri": "https://localhost:8080/"
    },
    "id": "3jylUMZ5HCe9",
    "outputId": "432b4439-b480-4f79-c244-94cd742546e3"
   },
   "outputs": [
    {
     "name": "stdout",
     "output_type": "stream",
     "text": [
      "Type    Children's Clothing  Men's Clothing  Women's Clothing\n",
      "Region                                                       \n",
      "East             405.743363      423.647541        399.028409\n",
      "North            438.894118      449.157303        432.528169\n",
      "South            412.666667      475.435897        418.924528\n",
      "West             480.523810      465.292683        419.188679\n"
     ]
    }
   ],
   "source": [
    "# Adding Columns to Our Pandas Pivot Table\n",
    "pivot = pd.pivot_table(\n",
    "    data=df,\n",
    "    index='Region',\n",
    "    columns='Type',\n",
    "    values='Sales'\n",
    ")\n",
    "\n",
    "print(pivot)"
   ]
  },
  {
   "cell_type": "code",
   "execution_count": null,
   "metadata": {
    "colab": {
     "base_uri": "https://localhost:8080/"
    },
    "id": "iy5bGprfHkXf",
    "outputId": "5d91120a-df84-47cf-fc5f-fd1133ba0627"
   },
   "outputs": [
    {
     "name": "stdout",
     "output_type": "stream",
     "text": [
      "Type         Children's Clothing  Men's Clothing  Women's Clothing\n",
      "Region Date                                                       \n",
      "East   1              423.241379      369.250000        428.948718\n",
      "       2              274.800000      445.425000        456.816327\n",
      "       3              425.382353      506.421053        342.386364\n",
      "       4              453.866667      405.666667        364.795455\n",
      "North  1              394.727273      450.869565        489.944444\n"
     ]
    }
   ],
   "source": [
    "pivot = pd.pivot_table(\n",
    "    data=df,\n",
    "    index=['Region',df['Date'].dt.quarter],\n",
    "    columns='Type',\n",
    "    values='Sales'\n",
    ")\n",
    "\n",
    "print(pivot.head())"
   ]
  },
  {
   "cell_type": "code",
   "execution_count": null,
   "metadata": {
    "colab": {
     "base_uri": "https://localhost:8080/"
    },
    "id": "CmqUbGhDH9IR",
    "outputId": "7869609a-1dd5-4a97-daed-bf45f98797e5"
   },
   "outputs": [
    {
     "name": "stdout",
     "output_type": "stream",
     "text": [
      "369.25\n"
     ]
    }
   ],
   "source": [
    "# Accessing data in a multi-index pivot table\n",
    "print(pivot.loc[('East', 1), \"Men's Clothing\"])"
   ]
  },
  {
   "cell_type": "code",
   "execution_count": null,
   "metadata": {
    "colab": {
     "base_uri": "https://localhost:8080/"
    },
    "id": "2yODhk_RIpCy",
    "outputId": "364e23c9-3388-43bd-a8f6-9ce8589e440b"
   },
   "outputs": [
    {
     "name": "stdout",
     "output_type": "stream",
     "text": [
      "Type    Children's Clothing  Men's Clothing  Women's Clothing         All\n",
      "Region                                                                   \n",
      "East             405.743363      423.647541        399.028409  408.182482\n",
      "North            438.894118      449.157303        432.528169  438.924051\n",
      "South            412.666667      475.435897        418.924528  432.956204\n",
      "West             480.523810      465.292683        419.188679  452.029412\n",
      "All              427.743860      444.257732        415.254717  427.254000\n"
     ]
    }
   ],
   "source": [
    "# Adding totals to rows and columns\n",
    "pivot = pd.pivot_table(\n",
    "    data=df,\n",
    "    index='Region',\n",
    "    columns='Type',\n",
    "    values='Sales',\n",
    "    margins=True\n",
    ")\n",
    "\n",
    "print(pivot)"
   ]
  },
  {
   "cell_type": "code",
   "execution_count": null,
   "metadata": {
    "colab": {
     "base_uri": "https://localhost:8080/"
    },
    "id": "QffWWq2yRJOY",
    "outputId": "533d7ea5-4bd4-410b-add1-8ced94e74fe8"
   },
   "outputs": [
    {
     "name": "stdout",
     "output_type": "stream",
     "text": [
      "Type    Children's Clothing  Men's Clothing  Women's Clothing       Total\n",
      "Region                                                                   \n",
      "East             405.743363      423.647541        399.028409  408.182482\n",
      "North            438.894118      449.157303        432.528169  438.924051\n",
      "South            412.666667      475.435897        418.924528  432.956204\n",
      "West             480.523810      465.292683        419.188679  452.029412\n",
      "Total            427.743860      444.257732        415.254717  427.254000\n"
     ]
    }
   ],
   "source": [
    "# Renaming totals in a Pandas pivot table\n",
    "pivot = pd.pivot_table(\n",
    "    data=df,\n",
    "    index='Region',\n",
    "    columns='Type',\n",
    "    values='Sales',\n",
    "    margins=True,\n",
    "    margins_name='Total'\n",
    ")\n",
    "\n",
    "print(pivot)\n"
   ]
  },
  {
   "cell_type": "code",
   "execution_count": null,
   "metadata": {
    "colab": {
     "base_uri": "https://localhost:8080/"
    },
    "id": "ZBWpOaFNOBik",
    "outputId": "03434789-df03-4597-c811-4cb1a7b0dc13"
   },
   "outputs": [
    {
     "name": "stdout",
     "output_type": "stream",
     "text": [
      "Type    Children's Clothing  Men's Clothing  Women's Clothing       Total\n",
      "Region                                                                   \n",
      "East             405.743363      423.647541        399.028409  408.182482\n",
      "North            438.894118      449.157303        432.528169  438.924051\n",
      "South            412.666667      475.435897        418.924528  432.956204\n",
      "West             480.523810      465.292683        419.188679  452.029412\n",
      "Total            427.743860      444.257732        415.254717  427.254000\n"
     ]
    }
   ],
   "source": [
    "# Renaming totals in a Pandas pivot table\n",
    "pivot = pd.pivot_table(\n",
    "    data=df,\n",
    "    index='Region',\n",
    "    columns='Type',\n",
    "    values='Sales',\n",
    "    margins=True,\n",
    "    margins_name='Total'\n",
    ")\n",
    "\n",
    "print(pivot)"
   ]
  },
  {
   "cell_type": "code",
   "execution_count": 3,
   "metadata": {
    "colab": {
     "base_uri": "https://localhost:8080/"
    },
    "id": "8vpekqUMCjt0",
    "outputId": "a4ea978a-9288-4858-e124-bc611c665e5b"
   },
   "outputs": [
    {
     "name": "stdout",
     "output_type": "stream",
     "text": [
      "Type    Children's Clothing  Men's Clothing  Women's Clothing\n",
      "Region                                                       \n",
      "East                    NaN      423.647541        399.028409\n",
      "North            438.894118      449.157303        432.528169\n",
      "South            412.666667      475.435897        418.924528\n",
      "West             480.523810      465.292683        419.188679\n"
     ]
    }
   ],
   "source": [
    "# Adding and seeing missing data in a Pandas pivot table\n",
    "import numpy as np\n",
    "df.loc[(df['Region'] == 'East') & (df['Type'] == \"Children's Clothing\"), 'Sales'] = np.NaN\n",
    " \n",
    "pivot = pd.pivot_table(\n",
    "    data=df,\n",
    "    index='Region',\n",
    "    columns='Type',\n",
    "    values='Sales',\n",
    ")\n",
    " \n",
    "print(pivot)"
   ]
  },
  {
   "cell_type": "code",
   "execution_count": 4,
   "metadata": {
    "colab": {
     "base_uri": "https://localhost:8080/"
    },
    "id": "QpBp-Da3DiL3",
    "outputId": "86d8a404-093e-48d9-c441-867dc80c2b0f"
   },
   "outputs": [
    {
     "name": "stdout",
     "output_type": "stream",
     "text": [
      "Type    Children's Clothing  Men's Clothing  Women's Clothing\n",
      "Region                                                       \n",
      "East               0.000000      423.647541        399.028409\n",
      "North            438.894118      449.157303        432.528169\n",
      "South            412.666667      475.435897        418.924528\n",
      "West             480.523810      465.292683        419.188679\n"
     ]
    }
   ],
   "source": [
    "# Filling Missing Values in a Pandas Pivot Table\n",
    "import numpy as np\n",
    "df.loc[(df['Region'] == 'East') & (df['Type'] == \"Children's Clothing\"), 'Sales'] = np.NaN\n",
    "\n",
    "pivot = pd.pivot_table(\n",
    "    data=df,\n",
    "    index='Region',\n",
    "    columns='Type',\n",
    "    values='Sales',\n",
    "    fill_value=0\n",
    ")\n",
    "\n",
    "print(pivot)"
   ]
  },
  {
   "cell_type": "code",
   "execution_count": 5,
   "metadata": {
    "colab": {
     "base_uri": "https://localhost:8080/"
    },
    "id": "dMLw1LCOD3J_",
    "outputId": "dd6f359c-3876-43c7-a1c8-522e8a755dee"
   },
   "outputs": [
    {
     "name": "stdout",
     "output_type": "stream",
     "text": [
      "             Sales\n",
      "Region            \n",
      "East    409.107383\n",
      "North   438.924051\n",
      "South   432.956204\n",
      "West    452.029412\n"
     ]
    }
   ],
   "source": [
    "# Sorting a Pandas Pivot Table\n",
    "pivot = pd.pivot_table(\n",
    "    data=df,\n",
    "    index='Region',\n",
    "    values='Sales',\n",
    "    sort=True\n",
    ")\n",
    "\n",
    "print(pivot)"
   ]
  },
  {
   "cell_type": "code",
   "execution_count": 6,
   "metadata": {
    "colab": {
     "base_uri": "https://localhost:8080/"
    },
    "id": "2x3ZM-3gD8C2",
    "outputId": "fd8df42d-e98d-486d-a31b-06c085e0ec4b"
   },
   "outputs": [
    {
     "name": "stdout",
     "output_type": "stream",
     "text": [
      "                  Sales\n",
      "Region Date            \n",
      "East   1     400.293333\n",
      "       2     451.696629\n",
      "       3     391.857143\n",
      "       4     380.338028\n",
      "North  1     462.142857\n"
     ]
    }
   ],
   "source": [
    "# Generating a long pivot table\n",
    "pivot = pd.pivot_table(\n",
    "    data=df,\n",
    "    index=['Region', df['Date'].dt.quarter],\n",
    "    values='Sales'\n",
    ")\n",
    "\n",
    "print(pivot.head())"
   ]
  },
  {
   "cell_type": "code",
   "execution_count": 7,
   "metadata": {
    "colab": {
     "base_uri": "https://localhost:8080/"
    },
    "id": "red-vUCYEOai",
    "outputId": "31a66d01-0d69-4fe3-9d34-03addb0fde36"
   },
   "outputs": [
    {
     "name": "stdout",
     "output_type": "stream",
     "text": [
      "                  Sales\n",
      "Region Date            \n",
      "East   2     451.696629\n",
      "North  1     462.142857\n",
      "       2     442.034884\n",
      "       3     447.200000\n",
      "South  1     465.263158\n",
      "       2     440.628571\n",
      "West   1     475.000000\n",
      "       3     444.884615\n",
      "       4     466.209302\n"
     ]
    }
   ],
   "source": [
    "print(pivot[pivot['Sales'] > pivot['Sales'].mean()])"
   ]
  },
  {
   "cell_type": "markdown",
   "metadata": {
    "id": "knfDbAxLItRC"
   },
   "source": [
    "**Practise 1.3C4 **\n",
    "**Solution**\n",
    "\n",
    "Question 1 Answer"
   ]
  },
  {
   "cell_type": "code",
   "execution_count": null,
   "metadata": {
    "colab": {
     "base_uri": "https://localhost:8080/"
    },
    "id": "rMzt0JxlItkk",
    "outputId": "3e6ef40f-6782-4d15-be3e-0a08c356d99d"
   },
   "outputs": [
    {
     "name": "stdout",
     "output_type": "stream",
     "text": [
      "West\n"
     ]
    }
   ],
   "source": [
    "#You can sort your pivot table, then use the .index accessor to access the last value (since data are sorted in ascending order).\n",
    "\n",
    "pivot = pd.pivot_table(\n",
    "    data=df,\n",
    "    index='Region',\n",
    "    values='Sales',\n",
    "    sort=True\n",
    ")\n",
    "\n",
    "print(pivot.index[-1])"
   ]
  },
  {
   "cell_type": "markdown",
   "metadata": {
    "id": "QKvl2e4eJPIQ"
   },
   "source": [
    "Question 2 Answer"
   ]
  },
  {
   "cell_type": "markdown",
   "metadata": {
    "id": "uQHmLtUmJbIZ"
   },
   "source": [
    "It’s recommended to keep to numeric data types (such as integers and floats) in order to prevent columns from being converted to columns that can’t have mathematical operations applied to them. Because columns in Pandas are homogeneous, it’s important to keep in mind what might happen."
   ]
  },
  {
   "cell_type": "markdown",
   "metadata": {
    "id": "T_Uf4TjYJO64"
   },
   "source": [
    "Question 3 Answer"
   ]
  },
  {
   "cell_type": "markdown",
   "metadata": {
    "id": "PY1YwMeAJjJV"
   },
   "source": [
    "Sometimes you may just want to have the column totals in your resulting DataFrame. Because of this, you can simply filter out the last row, using the negative index:"
   ]
  },
  {
   "cell_type": "code",
   "execution_count": null,
   "metadata": {
    "id": "LzilIRfxKiGP"
   },
   "outputs": [],
   "source": [
    "pivot.loc[-1:,]"
   ]
  }
 ],
 "metadata": {
  "colab": {
   "name": "1.3C4.ipynb",
   "provenance": []
  },
  "kernelspec": {
   "display_name": "Python 3 (ipykernel)",
   "language": "python",
   "name": "python3"
  },
  "language_info": {
   "codemirror_mode": {
    "name": "ipython",
    "version": 3
   },
   "file_extension": ".py",
   "mimetype": "text/x-python",
   "name": "python",
   "nbconvert_exporter": "python",
   "pygments_lexer": "ipython3",
   "version": "3.9.12"
  }
 },
 "nbformat": 4,
 "nbformat_minor": 1
}
