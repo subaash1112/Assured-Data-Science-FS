{
 "cells": [
  {
   "cell_type": "code",
   "execution_count": 1,
   "metadata": {
    "colab": {
     "base_uri": "https://localhost:8080/"
    },
    "id": "znvcYwDEIAZ8",
    "outputId": "75f6276e-62f5-4ce6-fad0-6d5893bfff5c"
   },
   "outputs": [
    {
     "name": "stdout",
     "output_type": "stream",
     "text": [
      "   Name   Age  Location\n",
      "0   Nik  33.0   Toronto\n",
      "1  Kate  32.0    London\n",
      "2  Evan  40.0  New York\n",
      "3  Kyra  57.0       NaN\n",
      "4   NaN   NaN       NaN\n"
     ]
    }
   ],
   "source": [
    "# Loading a Sample Pandas DataFrame\n",
    "import pandas as pd\n",
    "import numpy as np\n",
    "df = pd.DataFrame.from_dict({\n",
    "    'Name': ['Nik', 'Kate', 'Evan', 'Kyra', np.NaN],\n",
    "    'Age': [33, 32, 40, 57, np.NaN],\n",
    "    'Location': ['Toronto', 'London', 'New York', np.NaN, np.NaN]\n",
    "})\n",
    "print(df)"
   ]
  },
  {
   "cell_type": "code",
   "execution_count": 2,
   "metadata": {
    "colab": {
     "base_uri": "https://localhost:8080/"
    },
    "id": "faKsnQdII1T1",
    "outputId": "8a9c94d8-35ec-4c77-8451-672220e10eed"
   },
   "outputs": [
    {
     "name": "stdout",
     "output_type": "stream",
     "text": [
      "    Name    Age  Location\n",
      "0  False  False     False\n",
      "1  False  False     False\n",
      "2  False  False     False\n",
      "3  False  False      True\n",
      "4   True   True      True\n"
     ]
    }
   ],
   "source": [
    "# Exploring the .isnull() method\n",
    "print(df.isnull())"
   ]
  },
  {
   "cell_type": "code",
   "execution_count": 3,
   "metadata": {
    "colab": {
     "base_uri": "https://localhost:8080/"
    },
    "id": "eObseozKJbQa",
    "outputId": "bd9f82f5-9e93-4a48-f30e-546519366108"
   },
   "outputs": [
    {
     "name": "stdout",
     "output_type": "stream",
     "text": [
      "Name        1\n",
      "Age         1\n",
      "Location    2\n",
      "dtype: int64\n"
     ]
    }
   ],
   "source": [
    "print(df.isnull().sum())"
   ]
  },
  {
   "cell_type": "code",
   "execution_count": null,
   "metadata": {
    "id": "aIYt_NdEKfJ6"
   },
   "outputs": [],
   "source": [
    "# Exploring the Pandas .dropna() method\n",
    "df.dropna(\n",
    "    axis=0,         # Whether to drop rows or columns\n",
    "    how='any',      # Whether to drop records if 'all' or 'any' records are missing\n",
    "    thresh=None,    # How many columns/rows must be missing to drop\n",
    "    subset=None,    # Which rows/columns to consider\n",
    "    inplace=False   # Whether to drop in place (i.e., without needing to re-assign)\n",
    ")"
   ]
  },
  {
   "cell_type": "code",
   "execution_count": 4,
   "metadata": {
    "colab": {
     "base_uri": "https://localhost:8080/"
    },
    "id": "lNZUF5XSK172",
    "outputId": "a8024e05-a940-4049-8b47-298ddd4718e5"
   },
   "outputs": [
    {
     "name": "stdout",
     "output_type": "stream",
     "text": [
      "   Name   Age  Location\n",
      "0   Nik  33.0   Toronto\n",
      "1  Kate  32.0    London\n",
      "2  Evan  40.0  New York\n"
     ]
    }
   ],
   "source": [
    "# Dropping Values with Default Arguments\n",
    "df = df.dropna()\n",
    "print(df)"
   ]
  },
  {
   "cell_type": "code",
   "execution_count": 5,
   "metadata": {
    "colab": {
     "base_uri": "https://localhost:8080/"
    },
    "id": "AtaftvkMLOmY",
    "outputId": "869db006-533a-4b2c-b3b3-db92c69a0b7c"
   },
   "outputs": [
    {
     "name": "stdout",
     "output_type": "stream",
     "text": [
      "   Name   Age  Location\n",
      "0   Nik  33.0   Toronto\n",
      "1  Kate  32.0    London\n",
      "2  Evan  40.0  New York\n"
     ]
    }
   ],
   "source": [
    "# Dropping Records Only if All Records are Missing\n",
    "df = df.dropna(how='all')\n",
    "print(df)"
   ]
  },
  {
   "cell_type": "code",
   "execution_count": 6,
   "metadata": {
    "colab": {
     "base_uri": "https://localhost:8080/"
    },
    "id": "gr5r9a0QMUdA",
    "outputId": "97653e0c-df65-49ca-8059-1e5dce8dac3a"
   },
   "outputs": [
    {
     "name": "stdout",
     "output_type": "stream",
     "text": [
      "   Name   Age  Location\n",
      "0   Nik  33.0   Toronto\n",
      "1  Kate  32.0    London\n",
      "2  Evan  40.0  New York\n"
     ]
    }
   ],
   "source": [
    "# Using .fillna() to Fill Missing Data\n",
    "df = df.fillna(0)\n",
    "print(df)"
   ]
  },
  {
   "cell_type": "code",
   "execution_count": 7,
   "metadata": {
    "colab": {
     "base_uri": "https://localhost:8080/"
    },
    "id": "r7Ikdrl4MqKe",
    "outputId": "78e59bb9-32ee-4a0d-f8a1-d44a73b06c8a"
   },
   "outputs": [
    {
     "name": "stdout",
     "output_type": "stream",
     "text": [
      "   Name   Age  Location\n",
      "0   Nik  33.0   Toronto\n",
      "1  Kate  32.0    London\n",
      "2  Evan  40.0  New York\n"
     ]
    }
   ],
   "source": [
    "# Filling Columns with Different Values\n",
    "df = df.fillna({'Name': 'Someone', 'Age': 25, 'Location': 'USA'})\n",
    "print(df)"
   ]
  },
  {
   "cell_type": "code",
   "execution_count": 8,
   "metadata": {
    "colab": {
     "base_uri": "https://localhost:8080/"
    },
    "id": "5QKPoHRDNCio",
    "outputId": "e80f7e46-62be-42ce-8a7d-ff65f373a819"
   },
   "outputs": [
    {
     "name": "stdout",
     "output_type": "stream",
     "text": [
      "   Name   Age  Location\n",
      "0   Nik  33.0   Toronto\n",
      "1  Kate  32.0    London\n",
      "2  Evan  40.0  New York\n"
     ]
    }
   ],
   "source": [
    "# Imputing a Missing Value\n",
    "df['Age'] = df['Age'].fillna(df['Age'].mean())\n",
    "print(df)\n"
   ]
  },
  {
   "cell_type": "code",
   "execution_count": 9,
   "metadata": {
    "colab": {
     "base_uri": "https://localhost:8080/"
    },
    "id": "7imliyV8Njud",
    "outputId": "42744d52-db75-4049-d4b5-d703d0fede76"
   },
   "outputs": [
    {
     "name": "stdout",
     "output_type": "stream",
     "text": [
      "   Name  Age  Location Date Modified\n",
      "0   Nik   33   Toronto    2022-01-01\n",
      "1  Kate   32    London    2022-02-24\n",
      "2  Evan   40  New York    2022-08-12\n",
      "3  Kyra   57   Atlanta    2022-09-12\n",
      "4   Nik   33   Toronto    2022-01-01\n",
      "5  Kate   32     Paris    2022-12-09\n"
     ]
    }
   ],
   "source": [
    "# Loading a Sample Pandas DataFrame\n",
    "import pandas as pd\n",
    "df = pd.DataFrame.from_dict({\n",
    "    'Name': ['Nik', 'Kate', 'Evan', 'Kyra', 'Nik', 'Kate'],\n",
    "    'Age': [33, 32, 40, 57, 33, 32],\n",
    "    'Location': ['Toronto', 'London', 'New York', 'Atlanta', 'Toronto', 'Paris'],\n",
    "    'Date Modified': ['2022-01-01', '2022-02-24', '2022-08-12', '2022-09-12', '2022-01-01', '2022-12-09']\n",
    "})\n",
    "\n",
    "print(df)"
   ]
  },
  {
   "cell_type": "code",
   "execution_count": 10,
   "metadata": {
    "colab": {
     "base_uri": "https://localhost:8080/"
    },
    "id": "NYu5Pll0OTE9",
    "outputId": "6bb49315-2908-4add-f5c1-82e3b3d09f2e"
   },
   "outputs": [
    {
     "name": "stdout",
     "output_type": "stream",
     "text": [
      "0    False\n",
      "1    False\n",
      "2    False\n",
      "3    False\n",
      "4     True\n",
      "5    False\n",
      "dtype: bool\n"
     ]
    }
   ],
   "source": [
    "# Identifying Duplicate Records in a Pandas DataFrame\n",
    "print(df.duplicated())\n"
   ]
  },
  {
   "cell_type": "code",
   "execution_count": 11,
   "metadata": {
    "colab": {
     "base_uri": "https://localhost:8080/"
    },
    "id": "0FcePtkHOm8D",
    "outputId": "5814b1e5-feab-4203-e367-2eb93862b656"
   },
   "outputs": [
    {
     "name": "stdout",
     "output_type": "stream",
     "text": [
      "1\n"
     ]
    }
   ],
   "source": [
    "# Counting Duplicate Records in a DataFrame\n",
    "print(df.duplicated().sum())"
   ]
  },
  {
   "cell_type": "code",
   "execution_count": 12,
   "metadata": {
    "colab": {
     "base_uri": "https://localhost:8080/",
     "height": 206
    },
    "id": "LgYs1OIFPCg0",
    "outputId": "4dfaf843-8067-475a-b4c5-6de4ec0a7547"
   },
   "outputs": [
    {
     "data": {
      "text/html": [
       "\n",
       "  <div id=\"df-94bcc042-6d77-4024-99bf-e3df729a5ccf\">\n",
       "    <div class=\"colab-df-container\">\n",
       "      <div>\n",
       "<style scoped>\n",
       "    .dataframe tbody tr th:only-of-type {\n",
       "        vertical-align: middle;\n",
       "    }\n",
       "\n",
       "    .dataframe tbody tr th {\n",
       "        vertical-align: top;\n",
       "    }\n",
       "\n",
       "    .dataframe thead th {\n",
       "        text-align: right;\n",
       "    }\n",
       "</style>\n",
       "<table border=\"1\" class=\"dataframe\">\n",
       "  <thead>\n",
       "    <tr style=\"text-align: right;\">\n",
       "      <th></th>\n",
       "      <th>Name</th>\n",
       "      <th>Age</th>\n",
       "      <th>Location</th>\n",
       "      <th>Date Modified</th>\n",
       "    </tr>\n",
       "  </thead>\n",
       "  <tbody>\n",
       "    <tr>\n",
       "      <th>0</th>\n",
       "      <td>Nik</td>\n",
       "      <td>33</td>\n",
       "      <td>Toronto</td>\n",
       "      <td>2022-01-01</td>\n",
       "    </tr>\n",
       "    <tr>\n",
       "      <th>1</th>\n",
       "      <td>Kate</td>\n",
       "      <td>32</td>\n",
       "      <td>London</td>\n",
       "      <td>2022-02-24</td>\n",
       "    </tr>\n",
       "    <tr>\n",
       "      <th>2</th>\n",
       "      <td>Evan</td>\n",
       "      <td>40</td>\n",
       "      <td>New York</td>\n",
       "      <td>2022-08-12</td>\n",
       "    </tr>\n",
       "    <tr>\n",
       "      <th>3</th>\n",
       "      <td>Kyra</td>\n",
       "      <td>57</td>\n",
       "      <td>Atlanta</td>\n",
       "      <td>2022-09-12</td>\n",
       "    </tr>\n",
       "    <tr>\n",
       "      <th>5</th>\n",
       "      <td>Kate</td>\n",
       "      <td>32</td>\n",
       "      <td>Paris</td>\n",
       "      <td>2022-12-09</td>\n",
       "    </tr>\n",
       "  </tbody>\n",
       "</table>\n",
       "</div>\n",
       "      <button class=\"colab-df-convert\" onclick=\"convertToInteractive('df-94bcc042-6d77-4024-99bf-e3df729a5ccf')\"\n",
       "              title=\"Convert this dataframe to an interactive table.\"\n",
       "              style=\"display:none;\">\n",
       "        \n",
       "  <svg xmlns=\"http://www.w3.org/2000/svg\" height=\"24px\"viewBox=\"0 0 24 24\"\n",
       "       width=\"24px\">\n",
       "    <path d=\"M0 0h24v24H0V0z\" fill=\"none\"/>\n",
       "    <path d=\"M18.56 5.44l.94 2.06.94-2.06 2.06-.94-2.06-.94-.94-2.06-.94 2.06-2.06.94zm-11 1L8.5 8.5l.94-2.06 2.06-.94-2.06-.94L8.5 2.5l-.94 2.06-2.06.94zm10 10l.94 2.06.94-2.06 2.06-.94-2.06-.94-.94-2.06-.94 2.06-2.06.94z\"/><path d=\"M17.41 7.96l-1.37-1.37c-.4-.4-.92-.59-1.43-.59-.52 0-1.04.2-1.43.59L10.3 9.45l-7.72 7.72c-.78.78-.78 2.05 0 2.83L4 21.41c.39.39.9.59 1.41.59.51 0 1.02-.2 1.41-.59l7.78-7.78 2.81-2.81c.8-.78.8-2.07 0-2.86zM5.41 20L4 18.59l7.72-7.72 1.47 1.35L5.41 20z\"/>\n",
       "  </svg>\n",
       "      </button>\n",
       "      \n",
       "  <style>\n",
       "    .colab-df-container {\n",
       "      display:flex;\n",
       "      flex-wrap:wrap;\n",
       "      gap: 12px;\n",
       "    }\n",
       "\n",
       "    .colab-df-convert {\n",
       "      background-color: #E8F0FE;\n",
       "      border: none;\n",
       "      border-radius: 50%;\n",
       "      cursor: pointer;\n",
       "      display: none;\n",
       "      fill: #1967D2;\n",
       "      height: 32px;\n",
       "      padding: 0 0 0 0;\n",
       "      width: 32px;\n",
       "    }\n",
       "\n",
       "    .colab-df-convert:hover {\n",
       "      background-color: #E2EBFA;\n",
       "      box-shadow: 0px 1px 2px rgba(60, 64, 67, 0.3), 0px 1px 3px 1px rgba(60, 64, 67, 0.15);\n",
       "      fill: #174EA6;\n",
       "    }\n",
       "\n",
       "    [theme=dark] .colab-df-convert {\n",
       "      background-color: #3B4455;\n",
       "      fill: #D2E3FC;\n",
       "    }\n",
       "\n",
       "    [theme=dark] .colab-df-convert:hover {\n",
       "      background-color: #434B5C;\n",
       "      box-shadow: 0px 1px 3px 1px rgba(0, 0, 0, 0.15);\n",
       "      filter: drop-shadow(0px 1px 2px rgba(0, 0, 0, 0.3));\n",
       "      fill: #FFFFFF;\n",
       "    }\n",
       "  </style>\n",
       "\n",
       "      <script>\n",
       "        const buttonEl =\n",
       "          document.querySelector('#df-94bcc042-6d77-4024-99bf-e3df729a5ccf button.colab-df-convert');\n",
       "        buttonEl.style.display =\n",
       "          google.colab.kernel.accessAllowed ? 'block' : 'none';\n",
       "\n",
       "        async function convertToInteractive(key) {\n",
       "          const element = document.querySelector('#df-94bcc042-6d77-4024-99bf-e3df729a5ccf');\n",
       "          const dataTable =\n",
       "            await google.colab.kernel.invokeFunction('convertToInteractive',\n",
       "                                                     [key], {});\n",
       "          if (!dataTable) return;\n",
       "\n",
       "          const docLinkHtml = 'Like what you see? Visit the ' +\n",
       "            '<a target=\"_blank\" href=https://colab.research.google.com/notebooks/data_table.ipynb>data table notebook</a>'\n",
       "            + ' to learn more about interactive tables.';\n",
       "          element.innerHTML = '';\n",
       "          dataTable['output_type'] = 'display_data';\n",
       "          await google.colab.output.renderOutput(dataTable, element);\n",
       "          const docLink = document.createElement('div');\n",
       "          docLink.innerHTML = docLinkHtml;\n",
       "          element.appendChild(docLink);\n",
       "        }\n",
       "      </script>\n",
       "    </div>\n",
       "  </div>\n",
       "  "
      ],
      "text/plain": [
       "   Name  Age  Location Date Modified\n",
       "0   Nik   33   Toronto    2022-01-01\n",
       "1  Kate   32    London    2022-02-24\n",
       "2  Evan   40  New York    2022-08-12\n",
       "3  Kyra   57   Atlanta    2022-09-12\n",
       "5  Kate   32     Paris    2022-12-09"
      ]
     },
     "execution_count": 12,
     "metadata": {},
     "output_type": "execute_result"
    }
   ],
   "source": [
    "# The Pandas .drop_duplicates() method\n",
    "df.drop_duplicates(\n",
    "    subset=None,            # Which columns to consider \n",
    "    keep='first',           # Which duplicate record to keep\n",
    "    inplace=False,          # Whether to drop in place\n",
    "    ignore_index=False      # Whether to relabel the index\n",
    ")"
   ]
  },
  {
   "cell_type": "code",
   "execution_count": 13,
   "metadata": {
    "colab": {
     "base_uri": "https://localhost:8080/"
    },
    "id": "Nmv4kwnPPYIx",
    "outputId": "e3d4ab14-ddd1-4912-c443-19577cf1b34f"
   },
   "outputs": [
    {
     "name": "stdout",
     "output_type": "stream",
     "text": [
      "   Name  Age  Location Date Modified\n",
      "0   Nik   33   Toronto    2022-01-01\n",
      "1  Kate   32    London    2022-02-24\n",
      "2  Evan   40  New York    2022-08-12\n",
      "3  Kyra   57   Atlanta    2022-09-12\n",
      "5  Kate   32     Paris    2022-12-09\n"
     ]
    }
   ],
   "source": [
    "# Dropping Duplicates with Default Arguments\n",
    "df = df.drop_duplicates()\n",
    "print(df)"
   ]
  },
  {
   "cell_type": "code",
   "execution_count": 14,
   "metadata": {
    "colab": {
     "base_uri": "https://localhost:8080/"
    },
    "id": "YkH09rKGPzge",
    "outputId": "597cf900-6b71-4ce4-8d63-8251267c2018"
   },
   "outputs": [
    {
     "name": "stdout",
     "output_type": "stream",
     "text": [
      "   Name  Age  Location Date Modified\n",
      "5  Kate   32     Paris    2022-12-09\n",
      "3  Kyra   57   Atlanta    2022-09-12\n",
      "2  Evan   40  New York    2022-08-12\n",
      "0   Nik   33   Toronto    2022-01-01\n"
     ]
    }
   ],
   "source": [
    "# Dropping Based on a Subset of Columns\n",
    "df = df.sort_values(by='Date Modified', ascending=False)\n",
    "df = df.drop_duplicates(subset=['Name', 'Age'], keep='first')\n",
    "print(df)"
   ]
  },
  {
   "cell_type": "code",
   "execution_count": 15,
   "metadata": {
    "colab": {
     "base_uri": "https://localhost:8080/"
    },
    "id": "fzdxxG0sRyh1",
    "outputId": "6e5fb652-f000-4a55-eec3-2e82567b42ea"
   },
   "outputs": [
    {
     "name": "stdout",
     "output_type": "stream",
     "text": [
      "              Name    Region  Location Favorite Color\n",
      "0  Tranter, Melvyn  Region A   TORONTO        green  \n",
      "1   Lana, Courtney  Region A    LONDON            red\n",
      "2     Abel, Shakti  Region B  New york         yellow\n",
      "3    Vasu, Imogene  Region C   ATLANTA           blue\n",
      "4  Aravind, Shelly  Region D   toronto       purple  \n"
     ]
    }
   ],
   "source": [
    "# Loading a Sample Pandas DataFrame\n",
    "import pandas as pd\n",
    "df = pd.DataFrame.from_dict({\n",
    "    'Name': ['Tranter, Melvyn', 'Lana, Courtney', 'Abel, Shakti', 'Vasu, Imogene', 'Aravind, Shelly'],\n",
    "    'Region': ['Region A', 'Region A', 'Region B', 'Region C', 'Region D'],\n",
    "    'Location': ['TORONTO', 'LONDON', 'New york', 'ATLANTA', 'toronto'],\n",
    "    'Favorite Color': ['   green  ', 'red', '  yellow', 'blue', 'purple  ']\n",
    "})\n",
    "\n",
    "print(df)"
   ]
  },
  {
   "cell_type": "code",
   "execution_count": 16,
   "metadata": {
    "colab": {
     "base_uri": "https://localhost:8080/"
    },
    "id": "yZLAjlmMR48x",
    "outputId": "d44be1f3-8cbb-469b-940a-5404be0962c0"
   },
   "outputs": [
    {
     "name": "stdout",
     "output_type": "stream",
     "text": [
      "              Name    Region  Location Favorite Color\n",
      "0  Tranter, Melvyn  Region A   TORONTO          green\n",
      "1   Lana, Courtney  Region A    LONDON            red\n",
      "2     Abel, Shakti  Region B  New york         yellow\n",
      "3    Vasu, Imogene  Region C   ATLANTA           blue\n",
      "4  Aravind, Shelly  Region D   toronto         purple\n"
     ]
    }
   ],
   "source": [
    "# Trimming Whitespace from a Pandas Column\n",
    "df['Favorite Color'] = df['Favorite Color'].str.strip()\n",
    "print(df)"
   ]
  },
  {
   "cell_type": "code",
   "execution_count": 17,
   "metadata": {
    "colab": {
     "base_uri": "https://localhost:8080/"
    },
    "id": "cVQ9Gaw1R7pP",
    "outputId": "5519c1ca-867b-46f6-cde0-62fee31ac883"
   },
   "outputs": [
    {
     "name": "stdout",
     "output_type": "stream",
     "text": [
      "0    [Tranter,  Melvyn]\n",
      "1     [Lana,  Courtney]\n",
      "2       [Abel,  Shakti]\n",
      "3      [Vasu,  Imogene]\n",
      "4    [Aravind,  Shelly]\n",
      "Name: Name, dtype: object\n"
     ]
    }
   ],
   "source": [
    "# Applying .split on a column\n",
    "print(df['Name'].str.split(','))"
   ]
  },
  {
   "cell_type": "code",
   "execution_count": 18,
   "metadata": {
    "colab": {
     "base_uri": "https://localhost:8080/"
    },
    "id": "55MOuYTBR-TN",
    "outputId": "b476062f-76e4-412a-c528-f3c1973b287f"
   },
   "outputs": [
    {
     "name": "stdout",
     "output_type": "stream",
     "text": [
      "              Name    Region  Location Favorite Color Last Name First Name\n",
      "0  Tranter, Melvyn  Region A   TORONTO          green   Tranter     Melvyn\n",
      "1   Lana, Courtney  Region A    LONDON            red      Lana   Courtney\n",
      "2     Abel, Shakti  Region B  New york         yellow      Abel     Shakti\n",
      "3    Vasu, Imogene  Region C   ATLANTA           blue      Vasu    Imogene\n",
      "4  Aravind, Shelly  Region D   toronto         purple   Aravind     Shelly\n"
     ]
    }
   ],
   "source": [
    "# Splitting a Column into Two Columns\n",
    "df[['Last Name', 'First Name']] = df['Name'].str.split(',', expand=True)\n",
    "\n",
    "print(df)"
   ]
  },
  {
   "cell_type": "code",
   "execution_count": 19,
   "metadata": {
    "colab": {
     "base_uri": "https://localhost:8080/"
    },
    "id": "Plt6gNE7SAml",
    "outputId": "6203ff86-7553-4f25-c2a6-ec4fe3e7d171"
   },
   "outputs": [
    {
     "name": "stdout",
     "output_type": "stream",
     "text": [
      "              Name Region  Location Favorite Color Last Name First Name\n",
      "0  Tranter, Melvyn      A   TORONTO          green   Tranter     Melvyn\n",
      "1   Lana, Courtney      A    LONDON            red      Lana   Courtney\n",
      "2     Abel, Shakti      B  New york         yellow      Abel     Shakti\n",
      "3    Vasu, Imogene      C   ATLANTA           blue      Vasu    Imogene\n",
      "4  Aravind, Shelly      D   toronto         purple   Aravind     Shelly\n"
     ]
    }
   ],
   "source": [
    "# Replacing a Substring in Pandas\n",
    "df['Region'] = df['Region'].str.replace('Region ', '')\n",
    "print(df)\n"
   ]
  },
  {
   "cell_type": "code",
   "execution_count": 20,
   "metadata": {
    "colab": {
     "base_uri": "https://localhost:8080/"
    },
    "id": "3piHvtD4SCr7",
    "outputId": "c4678d03-085b-4acd-ed3e-afb68fcfaa39"
   },
   "outputs": [
    {
     "name": "stdout",
     "output_type": "stream",
     "text": [
      "              Name Region  Location Favorite Color Last Name First Name\n",
      "0  Tranter, Melvyn      A   Toronto          green   Tranter     Melvyn\n",
      "1   Lana, Courtney      A    London            red      Lana   Courtney\n",
      "2     Abel, Shakti      B  New York         yellow      Abel     Shakti\n",
      "3    Vasu, Imogene      C   Atlanta           blue      Vasu    Imogene\n",
      "4  Aravind, Shelly      D   Toronto         purple   Aravind     Shelly\n"
     ]
    }
   ],
   "source": [
    "# Changing Text to Title Case in Pandas\n",
    "df['Location'] = df['Location'].str.title()\n",
    "print(df)"
   ]
  },
  {
   "cell_type": "markdown",
   "metadata": {
    "id": "75c8p4_QSGOG"
   },
   "source": [
    "**Exercise 1.3C5**\n",
    "\n",
    "It’s time to check your learning! Try and solve the exercises below. If you want to verify your solution, simply toggle the box to see a sample solution. Load the sample DataFrame below to answer the questions:\n",
    "\n"
   ]
  },
  {
   "cell_type": "code",
   "execution_count": 21,
   "metadata": {
    "id": "ygNySOGPSRz0"
   },
   "outputs": [],
   "source": [
    "# Loading a DataFrame\n",
    "import pandas as pd\n",
    "import numpy as np\n",
    "\n",
    "df = pd.DataFrame.from_dict({\n",
    "    'Name': ['Tranter; Melvyn', 'Lana; Courtney', 'Abel; Shakti', 'Vasu; Imogene', 'Aravind; Shelly', 'Tranter; Melvyn'],\n",
    "    'Location': ['TORONTO', 'LONDON', 'New york', np.NaN, 'toronto', 'Madrid'],\n",
    "    'Sales': [123, 243, 654, np.NaN, 345, np.NaN]\n",
    "})"
   ]
  },
  {
   "cell_type": "markdown",
   "metadata": {
    "id": "eg5wnIfHSVUV"
   },
   "source": [
    "**Question 1 -  Solution**"
   ]
  },
  {
   "cell_type": "code",
   "execution_count": 22,
   "metadata": {
    "colab": {
     "base_uri": "https://localhost:8080/"
    },
    "id": "n8GcTy2KSVAO",
    "outputId": "644d80b1-0641-4de0-96d9-410fce2e5f4f"
   },
   "outputs": [
    {
     "name": "stdout",
     "output_type": "stream",
     "text": [
      "Name        0.000000\n",
      "Location    0.166667\n",
      "Sales       0.333333\n",
      "dtype: float64\n"
     ]
    }
   ],
   "source": [
    "# Q1 -Calculate the percentage of missing records in each column.\n",
    "# Q1 - Solution - Divide the output of df.isnull().sum() by the length of the dataframe:\n",
    "\n",
    "print(df.isnull().sum() / len(df))"
   ]
  },
  {
   "cell_type": "markdown",
   "metadata": {
    "id": "9S9ydXeuSt2d"
   },
   "source": [
    "\n",
    "**Question 2 - Solution**\n",
    "\n"
   ]
  },
  {
   "cell_type": "code",
   "execution_count": 23,
   "metadata": {
    "id": "d-G526wuSugf"
   },
   "outputs": [],
   "source": [
    "# Q2 - Drop any duplicate records based only on the Name column, keeping the last record.\n",
    "df = df.drop_duplicates(subset='Name', keep='last')"
   ]
  },
  {
   "cell_type": "markdown",
   "metadata": {
    "id": "2ec5NXudS_iO"
   },
   "source": [
    "**Question 3 - Solution**"
   ]
  },
  {
   "cell_type": "code",
   "execution_count": 24,
   "metadata": {
    "id": "1Fxk95P9S_Ja"
   },
   "outputs": [],
   "source": [
    "# Q3 - Create a First Name and a Last Name column. Note that there is a semi-colon between names.\n",
    "df[['Last Name', 'First Name']] = df['Name'].str.split(';', expand=True)"
   ]
  }
 ],
 "metadata": {
  "colab": {
   "collapsed_sections": [],
   "name": "1.3C5.ipynb",
   "provenance": []
  },
  "kernelspec": {
   "display_name": "Python 3 (ipykernel)",
   "language": "python",
   "name": "python3"
  },
  "language_info": {
   "codemirror_mode": {
    "name": "ipython",
    "version": 3
   },
   "file_extension": ".py",
   "mimetype": "text/x-python",
   "name": "python",
   "nbconvert_exporter": "python",
   "pygments_lexer": "ipython3",
   "version": "3.9.12"
  }
 },
 "nbformat": 4,
 "nbformat_minor": 1
}
