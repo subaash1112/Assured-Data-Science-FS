{
 "cells": [
  {
   "cell_type": "code",
   "execution_count": 2,
   "metadata": {
    "colab": {
     "base_uri": "https://localhost:8080/"
    },
    "id": "41j2NxF1fFM4",
    "outputId": "035fad1f-1a50-4e73-e6fd-644382f81740"
   },
   "outputs": [
    {
     "name": "stdout",
     "output_type": "stream",
     "text": [
      "        date  gender      region  sales\n",
      "0 2022-08-22    Male  North-West  20381\n",
      "1 2022-03-05    Male  North-East  14495\n",
      "2 2022-02-09    Male  North-East  13510\n",
      "3 2022-06-22    Male  North-East  15983\n",
      "4 2022-08-10  Female  North-West  15007\n"
     ]
    }
   ],
   "source": [
    "# Loading a Sample Pandas DataFrame\n",
    "import pandas as pd\n",
    "df = pd.read_csv('https://raw.githubusercontent.com/subaash1112/Assured-Data-Science-FS/data/sales.csv', parse_dates=['date'])\n",
    "print(df.head())"
   ]
  },
  {
   "cell_type": "code",
   "execution_count": 2,
   "metadata": {
    "colab": {
     "base_uri": "https://localhost:8080/"
    },
    "id": "LRMU7It8gZGp",
    "outputId": "d2aac93b-f874-45f8-e117-025c02ca8232"
   },
   "outputs": [
    {
     "name": "stdout",
     "output_type": "stream",
     "text": [
      "<pandas.core.groupby.generic.DataFrameGroupBy object at 0x7f4851305250>\n"
     ]
    }
   ],
   "source": [
    "# Creating a Pandas GroupBy Object\n",
    "print(df.groupby('region'))"
   ]
  },
  {
   "cell_type": "code",
   "execution_count": 3,
   "metadata": {
    "colab": {
     "base_uri": "https://localhost:8080/"
    },
    "id": "7o7r7AWnhGXK",
    "outputId": "17c82115-9d94-4963-d74a-a913271449f3"
   },
   "outputs": [
    {
     "name": "stdout",
     "output_type": "stream",
     "text": [
      "3\n"
     ]
    }
   ],
   "source": [
    "# Counting the Groups in a Pandas GroupBy Object\n",
    "print(df.groupby('region').ngroups)"
   ]
  },
  {
   "cell_type": "code",
   "execution_count": 4,
   "metadata": {
    "colab": {
     "base_uri": "https://localhost:8080/"
    },
    "id": "9alYYdo6vZM7",
    "outputId": "f0e0837c-2f4f-4686-c70d-e7df39b939f3"
   },
   "outputs": [
    {
     "name": "stdout",
     "output_type": "stream",
     "text": [
      "{'North-East': [1, 2, 3, 12, 13, 14, 15, 18, 19, 23, 24, 25, 26, 28, 31, 35, 40, 41, 45, 50, 51, 58, 59, 60, 63, 64, 67, 68, 72, 75, 76, 77, 80, 82, 83, 85, 87, 92, 94, 100, 105, 108, 109, 112, 113, 114, 115, 120, 121, 125, 127, 130, 134, 138, 139, 140, 141, 142, 146, 149, 155, 157, 164, 165, 176, 177, 179, 180, 188, 191, 193, 195, 199, 201, 205, 207, 211, 216, 218, 222, 224, 228, 231, 236, 242, 243, 246, 249, 254, 256, 259, 264, 265, 271, 272, 280, 283, 287, 288, 289, ...], 'North-West': [0, 4, 7, 11, 16, 17, 21, 29, 30, 34, 36, 38, 39, 42, 43, 44, 46, 48, 49, 52, 55, 56, 62, 66, 70, 71, 74, 79, 88, 89, 90, 91, 95, 98, 99, 103, 106, 116, 117, 119, 122, 123, 128, 129, 132, 137, 143, 144, 147, 148, 151, 153, 154, 156, 160, 161, 169, 171, 175, 178, 184, 185, 186, 198, 204, 206, 209, 212, 217, 221, 223, 225, 230, 233, 234, 235, 237, 240, 244, 251, 252, 253, 255, 260, 261, 263, 266, 267, 277, 278, 281, 285, 290, 291, 296, 297, 300, 318, 320, 321, ...], 'South': [5, 6, 8, 9, 10, 20, 22, 27, 32, 33, 37, 47, 53, 54, 57, 61, 65, 69, 73, 78, 81, 84, 86, 93, 96, 97, 101, 102, 104, 107, 110, 111, 118, 124, 126, 131, 133, 135, 136, 145, 150, 152, 158, 159, 162, 163, 166, 167, 168, 170, 172, 173, 174, 181, 182, 183, 187, 189, 190, 192, 194, 196, 197, 200, 202, 203, 208, 210, 213, 214, 215, 219, 220, 226, 227, 229, 232, 238, 239, 241, 245, 247, 248, 250, 257, 258, 262, 268, 269, 270, 273, 274, 275, 276, 279, 282, 284, 286, 292, 294, ...]}\n"
     ]
    }
   ],
   "source": [
    "# Accessing the Groups in a GroupBy object\n",
    "print(df.groupby('region').groups)"
   ]
  },
  {
   "cell_type": "code",
   "execution_count": 5,
   "metadata": {
    "colab": {
     "base_uri": "https://localhost:8080/"
    },
    "id": "_crUXd4axHDB",
    "outputId": "83a4216a-7339-4181-e766-7e58d96d3ebc"
   },
   "outputs": [
    {
     "name": "stdout",
     "output_type": "stream",
     "text": [
      "dict_keys(['North-East', 'North-West', 'South'])\n"
     ]
    }
   ],
   "source": [
    "# Accessing only Group Names of a GroupBy Object\n",
    "print(df.groupby('region').groups.keys())"
   ]
  },
  {
   "cell_type": "code",
   "execution_count": 6,
   "metadata": {
    "colab": {
     "base_uri": "https://localhost:8080/"
    },
    "id": "se5LDwVhx3ud",
    "outputId": "d1497ae4-8143-444a-8da2-eda5b3d2daea"
   },
   "outputs": [
    {
     "name": "stdout",
     "output_type": "stream",
     "text": [
      "          date  gender region  sales\n",
      "5   2022-09-06    Male  South  21792\n",
      "6   2022-08-21    Male  South  20113\n",
      "8   2022-11-22    Male  South  14594\n",
      "9   2022-01-16  Female  South  24114\n",
      "10  2022-12-21    Male  South  35154\n",
      "..         ...     ...    ...    ...\n",
      "972 2022-06-09    Male  South  22254\n",
      "979 2022-11-24  Female  South  25591\n",
      "981 2022-12-05    Male  South  34334\n",
      "985 2022-12-01  Female  South  21282\n",
      "994 2022-09-29    Male  South  21255\n",
      "\n",
      "[331 rows x 4 columns]\n"
     ]
    }
   ],
   "source": [
    "# Selecting a Pandas GroupBy Group\n",
    "print(df.groupby('region').get_group('South'))\n"
   ]
  },
  {
   "cell_type": "code",
   "execution_count": 7,
   "metadata": {
    "colab": {
     "base_uri": "https://localhost:8080/"
    },
    "id": "rtS8UF7a0Mh-",
    "outputId": "a275fa4e-29a5-45ba-dcfb-940472138788"
   },
   "outputs": [
    {
     "name": "stdout",
     "output_type": "stream",
     "text": [
      "            Average Sales\n",
      "North-West   15257.732919\n",
      "North-East   17386.072046\n",
      "South        24466.864048\n"
     ]
    }
   ],
   "source": [
    "# Replicating split-apply-combine Without GroupBy\n",
    "\n",
    "# Create a Container Dictionary\n",
    "averages = {}\n",
    "\n",
    "# Split the data into different regions\n",
    "for region in df['region'].unique():\n",
    "    tempdf = df[df['region'] == region]\n",
    "\n",
    "    # Apply an aggregation function\n",
    "    average = tempdf['sales'].mean()\n",
    "\n",
    "    # Combine the data into a DataFrame\n",
    "    averages[region] = [average]\n",
    "\n",
    "aggregate_df = pd.DataFrame.from_dict(averages, orient='index', columns=['Average Sales'])\n",
    "print(aggregate_df)"
   ]
  },
  {
   "cell_type": "code",
   "execution_count": 8,
   "metadata": {
    "colab": {
     "base_uri": "https://localhost:8080/"
    },
    "id": "3o1GIuxR1FOO",
    "outputId": "0733791a-2df4-4187-e19d-763eeb3128e6"
   },
   "outputs": [
    {
     "name": "stdout",
     "output_type": "stream",
     "text": [
      "region\n",
      "North-East    17386.072046\n",
      "North-West    15257.732919\n",
      "South         24466.864048\n",
      "Name: sales, dtype: float64\n"
     ]
    }
   ],
   "source": [
    "# Aggregating Data with Pandas .groupby()\n",
    "averages = df.groupby('region')['sales'].mean()\n",
    "print(averages)"
   ]
  },
  {
   "cell_type": "code",
   "execution_count": 9,
   "metadata": {
    "colab": {
     "base_uri": "https://localhost:8080/"
    },
    "id": "R7w6Xd5X26zD",
    "outputId": "d901d370-2f2a-4718-8fa1-ad9d8e1181da"
   },
   "outputs": [
    {
     "name": "stdout",
     "output_type": "stream",
     "text": [
      "region\n",
      "North-East    2032.541552\n",
      "North-West    3621.456493\n",
      "South         5253.702513\n",
      "Name: sales, dtype: float64\n"
     ]
    }
   ],
   "source": [
    "# Calculating the Standard Deviation of Each Group's Sales\n",
    "standard_deviations = df.groupby('region')['sales'].std()\n",
    "print(standard_deviations)"
   ]
  },
  {
   "cell_type": "code",
   "execution_count": 10,
   "metadata": {
    "colab": {
     "base_uri": "https://localhost:8080/"
    },
    "id": "l7XMeBv43mb4",
    "outputId": "af380540-9e33-4017-aa1f-da0a97148d43"
   },
   "outputs": [
    {
     "name": "stdout",
     "output_type": "stream",
     "text": [
      "                    mean          std           var\n",
      "region                                             \n",
      "North-East  17386.072046  2032.541552  4.131225e+06\n",
      "North-West  15257.732919  3621.456493  1.311495e+07\n",
      "South       24466.864048  5253.702513  2.760139e+07\n"
     ]
    }
   ],
   "source": [
    "# Applying Multiple Aggregations with .agg()\n",
    "import numpy as np\n",
    "aggs = df.groupby('region')['sales'].agg([np.mean, np.std, np.var])\n",
    "print(aggs)"
   ]
  },
  {
   "cell_type": "code",
   "execution_count": 11,
   "metadata": {
    "colab": {
     "base_uri": "https://localhost:8080/"
    },
    "id": "kOUwoJQx6hRi",
    "outputId": "131cb999-d094-443c-8eae-eee3a871c299"
   },
   "outputs": [
    {
     "name": "stdout",
     "output_type": "stream",
     "text": [
      "        date  gender      region  sales  Percent Of Region Sales\n",
      "0 2022-08-22    Male  North-West  20381                 0.004148\n",
      "1 2022-03-05    Male  North-East  14495                 0.002403\n",
      "2 2022-02-09    Male  North-East  13510                 0.002239\n",
      "3 2022-06-22    Male  North-East  15983                 0.002649\n",
      "4 2022-08-10  Female  North-West  15007                 0.003055\n"
     ]
    }
   ],
   "source": [
    "# Calculating percentage of region's sales\n",
    "df['Percent Of Region Sales'] = df['sales'] / df.groupby('region')['sales'].transform('sum')\n",
    "print(df.head())"
   ]
  },
  {
   "cell_type": "code",
   "execution_count": 13,
   "metadata": {
    "colab": {
     "base_uri": "https://localhost:8080/"
    },
    "id": "Zkg0hZc9VFoa",
    "outputId": "ac27d963-579b-494d-a642-3b8983bf6047"
   },
   "outputs": [
    {
     "name": "stdout",
     "output_type": "stream",
     "text": [
      "          date  gender region  sales  Percent Of Region Sales  ranked\n",
      "61  2022-02-22  Female  South  43775                 0.005405     1.0\n",
      "673 2022-04-19    Male  South  37878                 0.004677     2.0\n",
      "111 2022-10-31  Female  South  36444                 0.004500     3.0\n",
      "892 2022-09-05    Male  South  35723                 0.004411     4.0\n",
      "136 2022-02-27    Male  South  35485                 0.004382     5.0\n"
     ]
    }
   ],
   "source": [
    "# Transforming a DataFrame with GroupBy\n",
    "df['ranked'] = df.groupby('region')['sales'].rank(ascending=False)\n",
    "print(df.sort_values(by='sales', ascending=False).head())"
   ]
  },
  {
   "cell_type": "code",
   "execution_count": 16,
   "metadata": {
    "colab": {
     "base_uri": "https://localhost:8080/"
    },
    "id": "Fb0YNKsrXb4A",
    "outputId": "343c8548-edd3-4a84-da3f-d18c934fbcb9"
   },
   "outputs": [
    {
     "name": "stdout",
     "output_type": "stream",
     "text": [
      "        date  gender      region  sales  Percent Of Region Sales  ranked\n",
      "0 2022-08-22    Male  North-West  20381                 0.004148   297.0\n",
      "1 2022-03-05    Male  North-East  14495                 0.002403    33.0\n",
      "2 2022-02-09    Male  North-East  13510                 0.002239    10.0\n",
      "3 2022-06-22    Male  North-East  15983                 0.002649    82.0\n",
      "4 2022-08-10  Female  North-West  15007                 0.003055   148.5\n"
     ]
    }
   ],
   "source": [
    "# Filtering Rows Where the Group's Average Sale Price is Less Than 20,000\n",
    "df = df.groupby('region').filter(lambda x: x['sales'].mean() < 20000)\n",
    "print(df.head())"
   ]
  },
  {
   "cell_type": "code",
   "execution_count": 17,
   "metadata": {
    "colab": {
     "base_uri": "https://localhost:8080/"
    },
    "id": "nytM80sxePqO",
    "outputId": "19fe73f1-84e6-4eab-f17c-a6af00fca30a"
   },
   "outputs": [
    {
     "name": "stdout",
     "output_type": "stream",
     "text": [
      "                     sales  Percent Of Region Sales   ranked\n",
      "region     gender                                           \n",
      "North-East Female  3051132                 0.505743  29509.0\n",
      "           Male    2981835                 0.494257  30869.0\n",
      "North-West Female  2455899                 0.499879  25971.5\n",
      "           Male    2457091                 0.500121  26031.5\n"
     ]
    }
   ],
   "source": [
    "# Grouping Data by Multiple Columns\n",
    "sums = df.groupby(['region', 'gender']).sum()\n",
    "print(sums.head())"
   ]
  },
  {
   "cell_type": "code",
   "execution_count": 18,
   "metadata": {
    "colab": {
     "base_uri": "https://localhost:8080/"
    },
    "id": "jMGUblwvehZN",
    "outputId": "e12e4eb3-0b22-4b8a-8a67-6b1b920b6af6"
   },
   "outputs": [
    {
     "name": "stdout",
     "output_type": "stream",
     "text": [
      "        date  gender      region  sales  Percent Of Region Sales  ranked  \\\n",
      "0 2022-08-22    Male  North-West  20381                 0.004148   297.0   \n",
      "1 2022-03-05    Male  North-East  14495                 0.002403    33.0   \n",
      "2 2022-02-09    Male  North-East  13510                 0.002239    10.0   \n",
      "3 2022-06-22    Male  North-East  15983                 0.002649    82.0   \n",
      "4 2022-08-10  Female  North-West  15007                 0.003055   148.5   \n",
      "\n",
      "    rank  \n",
      "0   11.0  \n",
      "1  154.0  \n",
      "2  168.0  \n",
      "3  138.0  \n",
      "4   89.5  \n"
     ]
    }
   ],
   "source": [
    "# Ranking Sales by Region and by Gender\n",
    "df['rank'] = df.groupby(['region', 'gender'])['sales'].rank(ascending=False)\n",
    "print(df.head())"
   ]
  },
  {
   "cell_type": "code",
   "execution_count": 19,
   "metadata": {
    "colab": {
     "base_uri": "https://localhost:8080/"
    },
    "id": "HKNfZoC1ioAY",
    "outputId": "6300b1c6-87c5-4448-de96-b2f354bd5efe"
   },
   "outputs": [
    {
     "name": "stdout",
     "output_type": "stream",
     "text": [
      "region      gender\n",
      "North-East  Female    10881\n",
      "            Male      10352\n",
      "North-West  Female    20410\n",
      "            Male      17469\n",
      "Name: sales, dtype: int64\n"
     ]
    }
   ],
   "source": [
    "# Using a User-Defined Function in a GroupBy Object\n",
    "def group_range(x):\n",
    "    return x.max() - x.min()\n",
    "\n",
    "ranges = df.groupby(['region', 'gender'])['sales'].apply(group_range)\n",
    "print(ranges)"
   ]
  },
  {
   "cell_type": "code",
   "execution_count": 20,
   "metadata": {
    "colab": {
     "base_uri": "https://localhost:8080/"
    },
    "id": "8LyazMaTjlVJ",
    "outputId": "5734b1a4-fd95-4f90-f405-7cbf9d7cefd0"
   },
   "outputs": [
    {
     "name": "stdout",
     "output_type": "stream",
     "text": [
      "         date  gender      region  sales  Percent Of Region Sales  ranked  \\\n",
      "0  2022-08-22    Male  North-West  20381                 0.004148   297.0   \n",
      "1  2022-03-05    Male  North-East  14495                 0.002403    33.0   \n",
      "2  2022-02-09    Male  North-East  13510                 0.002239    10.0   \n",
      "4  2022-08-10  Female  North-West  15007                 0.003055   148.5   \n",
      "7  2022-07-08    Male  North-West  13650                 0.002778   104.0   \n",
      "11 2022-04-30  Female  North-West  19631                 0.003996   292.0   \n",
      "12 2022-11-25  Female  North-East  18262                 0.003027   229.0   \n",
      "13 2022-08-14  Female  North-East  13733                 0.002276    16.0   \n",
      "\n",
      "     rank  \n",
      "0    11.0  \n",
      "1   154.0  \n",
      "2   168.0  \n",
      "4    89.5  \n",
      "7   112.0  \n",
      "11   16.0  \n",
      "12   59.0  \n",
      "13  169.0  \n"
     ]
    }
   ],
   "source": [
    "# Return the first two records of each group\n",
    "print(df.groupby(['region', 'gender']).head(2))"
   ]
  },
  {
   "cell_type": "code",
   "execution_count": 21,
   "metadata": {
    "colab": {
     "base_uri": "https://localhost:8080/"
    },
    "id": "HgnmvzlpkCJt",
    "outputId": "ae83bfe8-59b5-4e8a-c585-ed82bff331a2"
   },
   "outputs": [
    {
     "name": "stdout",
     "output_type": "stream",
     "text": [
      "region      gender     \n",
      "North-East  Female  407    22545\n",
      "                    561    21933\n",
      "            Male    560    22361\n",
      "                    442    21951\n",
      "North-West  Female  758    26813\n",
      "                    46     24573\n",
      "            Male    844    23553\n",
      "                    576    23485\n",
      "Name: sales, dtype: int64\n"
     ]
    }
   ],
   "source": [
    "# Getting the second largest value in each group\n",
    "print(df.groupby(['region', 'gender'])['sales'].nlargest(2))"
   ]
  },
  {
   "cell_type": "markdown",
   "metadata": {
    "id": "I77Bp0WXlBdv"
   },
   "source": [
    "Exercise 1.3C2 - Solutions\n",
    "\n",
    "Question 1"
   ]
  },
  {
   "cell_type": "code",
   "execution_count": 22,
   "metadata": {
    "colab": {
     "base_uri": "https://localhost:8080/"
    },
    "id": "ABucRmtplAkn",
    "outputId": "d7544b74-afe5-4374-8462-83ab6f5bd846"
   },
   "outputs": [
    {
     "name": "stdout",
     "output_type": "stream",
     "text": [
      "region\n",
      "North-East   2022-01-02\n",
      "North-West   2022-01-02\n",
      "Name: date, dtype: datetime64[ns]\n"
     ]
    }
   ],
   "source": [
    "print(df.groupby('region')['date'].min())"
   ]
  },
  {
   "cell_type": "markdown",
   "metadata": {
    "id": "Sem96Q-jlnUz"
   },
   "source": [
    "Question 2"
   ]
  },
  {
   "cell_type": "code",
   "execution_count": 23,
   "metadata": {
    "colab": {
     "base_uri": "https://localhost:8080/"
    },
    "id": "M2KafAUdlrV-",
    "outputId": "6eae61aa-345d-4069-a2c3-8891c26cc5fc"
   },
   "outputs": [
    {
     "name": "stdout",
     "output_type": "stream",
     "text": [
      "2032.5415517362096\n"
     ]
    }
   ],
   "source": [
    "print(df.groupby('region')['sales'].std().min())"
   ]
  },
  {
   "cell_type": "markdown",
   "metadata": {
    "id": "S2Iu2mE3l_1y"
   },
   "source": [
    "Question 3"
   ]
  },
  {
   "cell_type": "code",
   "execution_count": 24,
   "metadata": {
    "colab": {
     "base_uri": "https://localhost:8080/"
    },
    "id": "jLKhSOQCmBV5",
    "outputId": "152a05d5-66ac-4636-a904-b1e705a76157"
   },
   "outputs": [
    {
     "name": "stdout",
     "output_type": "stream",
     "text": [
      "          date  gender      region  sales  Percent Of Region Sales  ranked  \\\n",
      "988 2022-07-10    Male  North-West  12500                 0.002544    81.0   \n",
      "990 2022-07-07  Female  North-East  16468                 0.002730   113.0   \n",
      "993 2022-06-11    Male  North-West  14942                 0.003041   145.0   \n",
      "995 2022-06-02  Female  North-West  14015                 0.002853   116.0   \n",
      "996 2022-05-20  Female  North-East  15503                 0.002570    61.0   \n",
      "997 2022-04-02    Male  North-East  18714                 0.003102   262.0   \n",
      "998 2022-12-07    Male  North-East  19910                 0.003300   310.0   \n",
      "999 2022-12-19  Female  North-West  16589                 0.003377   198.5   \n",
      "\n",
      "      rank  \n",
      "988  129.0  \n",
      "990  112.0  \n",
      "993   87.0  \n",
      "995  102.0  \n",
      "996  145.0  \n",
      "997   48.0  \n",
      "998   22.0  \n",
      "999   65.0  \n"
     ]
    }
   ],
   "source": [
    "print(df.groupby(['region', 'gender']).tail(2))"
   ]
  }
 ],
 "metadata": {
  "colab": {
   "name": "1.3C2.ipynb",
   "provenance": []
  },
  "kernelspec": {
   "display_name": "Python 3 (ipykernel)",
   "language": "python",
   "name": "python3"
  },
  "language_info": {
   "codemirror_mode": {
    "name": "ipython",
    "version": 3
   },
   "file_extension": ".py",
   "mimetype": "text/x-python",
   "name": "python",
   "nbconvert_exporter": "python",
   "pygments_lexer": "ipython3",
   "version": "3.9.12"
  }
 },
 "nbformat": 4,
 "nbformat_minor": 1
}
