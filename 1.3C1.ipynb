{
  "nbformat": 4,
  "nbformat_minor": 0,
  "metadata": {
    "colab": {
      "name": "1.3C1.ipynb",
      "provenance": [],
      "collapsed_sections": []
    },
    "kernelspec": {
      "name": "python3",
      "display_name": "Python 3"
    },
    "language_info": {
      "name": "python"
    }
  },
  "cells": [
    {
      "cell_type": "code",
      "execution_count": 2,
      "metadata": {
        "colab": {
          "base_uri": "https://localhost:8080/"
        },
        "id": "1hjHQUV3T2sA",
        "outputId": "18904573-3b41-4cbc-b19d-5615c8ae1a0c"
      },
      "outputs": [
        {
          "output_type": "stream",
          "name": "stdout",
          "text": [
            "      name  age score  age_missing_data  income\n",
            "0    James   30   90%              30.0  100000\n",
            "1     Jane   40   95%              40.0   80000\n",
            "2  Melissa   32  100%              32.0   55000\n",
            "3       Ed   67   82%              67.0   62000\n",
            "4     Neil   43   87%               NaN  120000\n"
          ]
        }
      ],
      "source": [
        "# Loading a Sample Pandas DataFrame\n",
        "import pandas as pd\n",
        "df = pd.DataFrame({\n",
        "    'name': ['James', 'Jane', 'Melissa', 'Ed', 'Neil'],\n",
        "    'age': [30, 40, 32, 67, 43],\n",
        "    'score': ['90%', '95%', '100%', '82%', '87%'],\n",
        "    'age_missing_data': [30, 40, 32, 67, None],\n",
        "    'income':[100000, 80000, 55000, 62000, 120000]\n",
        "})\n",
        "print(df)"
      ]
    },
    {
      "cell_type": "code",
      "source": [
        "# Visualizing the Difference Between Vectorization and Scalar Operations\n",
        "# Scalar Operations (Simplified using a for loop)\n",
        "length = 0\n",
        "age_sum = 0\n",
        "for item in df['age']:\n",
        "    length += 1\n",
        "    age_sum += item\n",
        "\n",
        "average_age_for_loop = age_sum / length\n",
        "\n",
        "# Vectorized Implementation\n",
        "average_age_vectorized = df['age'].mean()"
      ],
      "metadata": {
        "id": "wrkyLQ1NT_ve"
      },
      "execution_count": 3,
      "outputs": []
    },
    {
      "cell_type": "code",
      "source": [
        "# Creating a dictionary of genders\n",
        "genders = {'James': 'Male', 'Jane': 'Female', 'Melissa': 'Female', 'Ed': 'Male', 'Neil': 'Male'}\n"
      ],
      "metadata": {
        "id": "tbg9MDhDZ6Ln"
      },
      "execution_count": 4,
      "outputs": []
    },
    {
      "cell_type": "code",
      "source": [
        "# Applying a dictionary to the map method\n",
        "df['gender'] = df['name'].map(genders)\n",
        "print(df)"
      ],
      "metadata": {
        "colab": {
          "base_uri": "https://localhost:8080/"
        },
        "id": "XqRwSaYbaIki",
        "outputId": "3c2b7d4c-a16b-4823-fddd-369d732b0dd5"
      },
      "execution_count": 5,
      "outputs": [
        {
          "output_type": "stream",
          "name": "stdout",
          "text": [
            "      name  age score  age_missing_data  income  gender\n",
            "0    James   30   90%              30.0  100000    Male\n",
            "1     Jane   40   95%              40.0   80000  Female\n",
            "2  Melissa   32  100%              32.0   55000  Female\n",
            "3       Ed   67   82%              67.0   62000    Male\n",
            "4     Neil   43   87%               NaN  120000    Male\n"
          ]
        }
      ]
    },
    {
      "cell_type": "code",
      "source": [
        "# Mapping in a custom function\n",
        "mean_income = df['income'].mean()\n",
        "\n",
        "def higher_income(x):\n",
        "    return x > mean_income\n",
        "\n",
        "df['higher_than_avg_income'] = df['income'].map(higher_income)\n",
        "print(df)\n"
      ],
      "metadata": {
        "colab": {
          "base_uri": "https://localhost:8080/"
        },
        "id": "2ba9DVXWbBts",
        "outputId": "09e1102e-4c78-43e2-c43f-19a09c01d006"
      },
      "execution_count": 6,
      "outputs": [
        {
          "output_type": "stream",
          "name": "stdout",
          "text": [
            "      name  age score  age_missing_data  income  gender  \\\n",
            "0    James   30   90%              30.0  100000    Male   \n",
            "1     Jane   40   95%              40.0   80000  Female   \n",
            "2  Melissa   32  100%              32.0   55000  Female   \n",
            "3       Ed   67   82%              67.0   62000    Male   \n",
            "4     Neil   43   87%               NaN  120000    Male   \n",
            "\n",
            "   higher_than_avg_income  \n",
            "0                    True  \n",
            "1                   False  \n",
            "2                   False  \n",
            "3                   False  \n",
            "4                    True  \n"
          ]
        }
      ]
    },
    {
      "cell_type": "code",
      "source": [
        "# Mapping in an Anonymous Function\n",
        "mean_income = df['income'].mean()\n",
        "df['higher_than_avg_income'] = df['income'].map(lambda x: x > mean_income)\n",
        "print(df)"
      ],
      "metadata": {
        "colab": {
          "base_uri": "https://localhost:8080/"
        },
        "id": "jpgYJA2Zb4Bm",
        "outputId": "bd1ceac8-1d3c-43b3-88f8-796c4e22f5d5"
      },
      "execution_count": 7,
      "outputs": [
        {
          "output_type": "stream",
          "name": "stdout",
          "text": [
            "      name  age score  age_missing_data  income  gender  \\\n",
            "0    James   30   90%              30.0  100000    Male   \n",
            "1     Jane   40   95%              40.0   80000  Female   \n",
            "2  Melissa   32  100%              32.0   55000  Female   \n",
            "3       Ed   67   82%              67.0   62000    Male   \n",
            "4     Neil   43   87%               NaN  120000    Male   \n",
            "\n",
            "   higher_than_avg_income  \n",
            "0                    True  \n",
            "1                   False  \n",
            "2                   False  \n",
            "3                   False  \n",
            "4                    True  \n"
          ]
        }
      ]
    },
    {
      "cell_type": "code",
      "source": [
        "# Mapping in a Series\n",
        "last_names = pd.Series(['Doe', 'Miller', 'Edwards', 'Nelson', 'Raul'], index=df['name'])\n",
        "df['Last Name'] = df['name'].map(last_names)\n",
        "\n",
        "print(df)"
      ],
      "metadata": {
        "id": "QKxWxrBycopE",
        "outputId": "3d349857-0c14-4ff0-bc2e-ce64cb6a673e",
        "colab": {
          "base_uri": "https://localhost:8080/"
        }
      },
      "execution_count": 8,
      "outputs": [
        {
          "output_type": "stream",
          "name": "stdout",
          "text": [
            "      name  age score  age_missing_data  income  gender  \\\n",
            "0    James   30   90%              30.0  100000    Male   \n",
            "1     Jane   40   95%              40.0   80000  Female   \n",
            "2  Melissa   32  100%              32.0   55000  Female   \n",
            "3       Ed   67   82%              67.0   62000    Male   \n",
            "4     Neil   43   87%               NaN  120000    Male   \n",
            "\n",
            "   higher_than_avg_income Last Name  \n",
            "0                    True       Doe  \n",
            "1                   False    Miller  \n",
            "2                   False   Edwards  \n",
            "3                   False    Nelson  \n",
            "4                    True      Raul  \n"
          ]
        }
      ]
    },
    {
      "cell_type": "code",
      "source": [
        "# Applying a function to an entire dataframe\n",
        "def interview(row):\n",
        "    return row['age'] < 45 and row['income'] > 75000\n",
        "\n",
        "df['interview'] = df.apply(interview, axis=1)\n",
        "print(df)"
      ],
      "metadata": {
        "colab": {
          "base_uri": "https://localhost:8080/"
        },
        "id": "bq4VN7M0Tdjc",
        "outputId": "4ec6aa01-8c92-4b05-fa63-866f365fef7f"
      },
      "execution_count": 9,
      "outputs": [
        {
          "output_type": "stream",
          "name": "stdout",
          "text": [
            "      name  age score  age_missing_data  income  gender  \\\n",
            "0    James   30   90%              30.0  100000    Male   \n",
            "1     Jane   40   95%              40.0   80000  Female   \n",
            "2  Melissa   32  100%              32.0   55000  Female   \n",
            "3       Ed   67   82%              67.0   62000    Male   \n",
            "4     Neil   43   87%               NaN  120000    Male   \n",
            "\n",
            "   higher_than_avg_income Last Name  interview  \n",
            "0                    True       Doe       True  \n",
            "1                   False    Miller       True  \n",
            "2                   False   Edwards      False  \n",
            "3                   False    Nelson      False  \n",
            "4                    True      Raul       True  \n"
          ]
        }
      ]
    },
    {
      "cell_type": "code",
      "source": [
        "# Passing in arguments into an .apply method\n",
        "def bonus(row, amount, give=False):\n",
        "    if give:\n",
        "        return row['income'] / row['age'] * amount\n",
        "    else:\n",
        "        return 0\n",
        "\n",
        "df['bonus'] = df.apply(bonus, args = (0.25,), give = True, axis=1)\n",
        "print(df)"
      ],
      "metadata": {
        "colab": {
          "base_uri": "https://localhost:8080/"
        },
        "id": "_0UvtJb3V3MT",
        "outputId": "c9bc4b3c-83d6-4f89-c42b-634d665e4e82"
      },
      "execution_count": 10,
      "outputs": [
        {
          "output_type": "stream",
          "name": "stdout",
          "text": [
            "      name  age score  age_missing_data  income  gender  \\\n",
            "0    James   30   90%              30.0  100000    Male   \n",
            "1     Jane   40   95%              40.0   80000  Female   \n",
            "2  Melissa   32  100%              32.0   55000  Female   \n",
            "3       Ed   67   82%              67.0   62000    Male   \n",
            "4     Neil   43   87%               NaN  120000    Male   \n",
            "\n",
            "   higher_than_avg_income Last Name  interview       bonus  \n",
            "0                    True       Doe       True  833.333333  \n",
            "1                   False    Miller       True  500.000000  \n",
            "2                   False   Edwards      False  429.687500  \n",
            "3                   False    Nelson      False  231.343284  \n",
            "4                    True      Raul       True  697.674419  \n"
          ]
        }
      ]
    },
    {
      "cell_type": "markdown",
      "source": [
        "Exercise 1.3C1\n",
        "\n",
        "Question 1: Solution"
      ],
      "metadata": {
        "id": "f5zt4tosaQdo"
      }
    },
    {
      "cell_type": "code",
      "source": [
        "df['percent'] = df['score'].map(lambda x: int(x.replace('%', '')))\n",
        "print(df)"
      ],
      "metadata": {
        "colab": {
          "base_uri": "https://localhost:8080/"
        },
        "id": "D5diXr6IabpQ",
        "outputId": "65d09fac-852f-48a4-90f5-55b047c67457"
      },
      "execution_count": 11,
      "outputs": [
        {
          "output_type": "stream",
          "name": "stdout",
          "text": [
            "      name  age score  age_missing_data  income  gender  \\\n",
            "0    James   30   90%              30.0  100000    Male   \n",
            "1     Jane   40   95%              40.0   80000  Female   \n",
            "2  Melissa   32  100%              32.0   55000  Female   \n",
            "3       Ed   67   82%              67.0   62000    Male   \n",
            "4     Neil   43   87%               NaN  120000    Male   \n",
            "\n",
            "   higher_than_avg_income Last Name  interview       bonus  percent  \n",
            "0                    True       Doe       True  833.333333       90  \n",
            "1                   False    Miller       True  500.000000       95  \n",
            "2                   False   Edwards      False  429.687500      100  \n",
            "3                   False    Nelson      False  231.343284       82  \n",
            "4                    True      Raul       True  697.674419       87  \n"
          ]
        }
      ]
    },
    {
      "cell_type": "markdown",
      "source": [
        "Question 2: Solution"
      ],
      "metadata": {
        "id": "IuPpYNCuahd8"
      }
    },
    {
      "cell_type": "code",
      "source": [
        "total_income = df['income'].sum()\n",
        "df['perc_of_total'] = df['income'] / total_income\n",
        "\n",
        "print(df)"
      ],
      "metadata": {
        "colab": {
          "base_uri": "https://localhost:8080/"
        },
        "id": "I-QJGl8Raglg",
        "outputId": "22820e40-2ce0-41b0-adbd-ebfd07173942"
      },
      "execution_count": 12,
      "outputs": [
        {
          "output_type": "stream",
          "name": "stdout",
          "text": [
            "      name  age score  age_missing_data  income  gender  \\\n",
            "0    James   30   90%              30.0  100000    Male   \n",
            "1     Jane   40   95%              40.0   80000  Female   \n",
            "2  Melissa   32  100%              32.0   55000  Female   \n",
            "3       Ed   67   82%              67.0   62000    Male   \n",
            "4     Neil   43   87%               NaN  120000    Male   \n",
            "\n",
            "   higher_than_avg_income Last Name  interview       bonus  percent  \\\n",
            "0                    True       Doe       True  833.333333       90   \n",
            "1                   False    Miller       True  500.000000       95   \n",
            "2                   False   Edwards      False  429.687500      100   \n",
            "3                   False    Nelson      False  231.343284       82   \n",
            "4                    True      Raul       True  697.674419       87   \n",
            "\n",
            "   perc_of_total  \n",
            "0       0.239808  \n",
            "1       0.191847  \n",
            "2       0.131894  \n",
            "3       0.148681  \n",
            "4       0.287770  \n"
          ]
        }
      ]
    }
  ]
}